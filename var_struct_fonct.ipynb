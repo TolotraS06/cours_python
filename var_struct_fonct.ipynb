{
 "cells": [
  {
   "cell_type": "markdown",
   "metadata": {},
   "source": [
    "                        Variable,Structure et Fonctions\n"
   ]
  },
  {
   "cell_type": "code",
   "execution_count": 2,
   "metadata": {},
   "outputs": [
    {
     "name": "stdout",
     "output_type": "stream",
     "text": [
      "hello world\n"
     ]
    },
    {
     "data": {
      "text/plain": [
       "'bonjour'"
      ]
     },
     "execution_count": 2,
     "metadata": {},
     "output_type": "execute_result"
    }
   ],
   "source": [
    "print (\"hello world\")\n",
    "'bonjour'"
   ]
  },
  {
   "cell_type": "markdown",
   "metadata": {},
   "source": [
    "                    Les variables"
   ]
  },
  {
   "cell_type": "code",
   "execution_count": 3,
   "metadata": {},
   "outputs": [
    {
     "name": "stdout",
     "output_type": "stream",
     "text": [
      "la variable A = 10\n"
     ]
    }
   ],
   "source": [
    "a = 10\n",
    "print (f\"la variable A = {a}\") "
   ]
  },
  {
   "cell_type": "code",
   "execution_count": 4,
   "metadata": {},
   "outputs": [
    {
     "name": "stdout",
     "output_type": "stream",
     "text": [
      "10\n",
      "<class 'int'>\n",
      "10.0\n",
      "<class 'float'>\n",
      "PSG\n",
      "<class 'str'>\n"
     ]
    }
   ],
   "source": [
    "#integer 0,1,2,3....N\n",
    "variable1 = 10 #definitions et initialisation de la variable1 type int\n",
    "print (variable1) #afficher la variable variable1\n",
    "print(type (variable1)) #afficher le type de variable1\n",
    "\n",
    "#float 0.5,...\n",
    "variable2 = 10.0 #definitions et initialisation de la variable2 type float\n",
    "print (variable2) #afficher la variable variable2\n",
    "print(type (variable2)) #afficher le type de variable2\n",
    "\n",
    "#string\n",
    "variable3 = \"PSG\" #definitions et initialisation de la variable3 type string\n",
    "print (variable3) #afficher la variable variable3\n",
    "print(type (variable3)) #afficher le type de variable3"
   ]
  },
  {
   "cell_type": "code",
   "execution_count": 5,
   "metadata": {},
   "outputs": [
    {
     "name": "stdout",
     "output_type": "stream",
     "text": [
      "False\n",
      "True\n",
      "False\n",
      "False\n",
      "True\n",
      "True\n",
      "True False\n"
     ]
    }
   ],
   "source": [
    "#boolean True,False,1,0\n",
    "print ( 1 == 0) #egalite ==\n",
    "print (1 != 0) #different !=\n",
    "\n",
    "print (1 < 0 ) #inferieur <\n",
    "print (1 <= 0 ) # inferieur ou egal <=\n",
    "\n",
    "print (1 > 0) #superieur >\n",
    "print (1 >= 0 ) #superieur ou egal >=\n",
    "\n",
    "print (bool (1),bool (0))"
   ]
  },
  {
   "cell_type": "code",
   "execution_count": 1,
   "metadata": {},
   "outputs": [
    {
     "name": "stdout",
     "output_type": "stream",
     "text": [
      "15\n"
     ]
    },
    {
     "data": {
      "text/plain": [
       "10"
      ]
     },
     "execution_count": 1,
     "metadata": {},
     "output_type": "execute_result"
    }
   ],
   "source": [
    "#conversion de type\n",
    "print (int (15.2))\n",
    "int ('10')\n",
    "#converitir une floate en int,\n",
    "# convertir une string numerique en int  "
   ]
  },
  {
   "cell_type": "code",
   "execution_count": 7,
   "metadata": {},
   "outputs": [
    {
     "name": "stdout",
     "output_type": "stream",
     "text": [
      "(1, 0)\n",
      "<class 'tuple'>\n",
      "[1, 0, '0M', 'PSG', 'OL']\n",
      "<class 'list'>\n",
      "{'P': ['Profil', 'Papa', 'Peloton', 'Pomme'], 'anis': ['Eau', 'clavier', 'souris']}\n",
      "<class 'dict'>\n"
     ]
    }
   ],
   "source": [
    "#Tuple (1,0) set met toujours entre parenthese\n",
    "variable4 = (1,0)\n",
    "print (variable4)\n",
    "print (type (variable4))\n",
    "\n",
    "#list [1,0,'OM','TEST']\n",
    "variable5 = [1,0,'0M','PSG','OL']\n",
    "print (variable5)\n",
    "print (type (variable5))\n",
    "\n",
    "#Dict {'P': Pomme} P:\n",
    "variable6 = {'P':['Profil','Papa','Peloton','Pomme'],\n",
    "            'anis': ['Eau','clavier','souris']}\n",
    "print (variable6)\n",
    "print (type (variable6))\n"
   ]
  },
  {
   "cell_type": "markdown",
   "metadata": {},
   "source": [
    "                        Les structure de controle"
   ]
  },
  {
   "cell_type": "code",
   "execution_count": 8,
   "metadata": {},
   "outputs": [
    {
     "name": "stdout",
     "output_type": "stream",
     "text": [
      "C'est le PSG\n"
     ]
    }
   ],
   "source": [
    "#if else/ elif condition\n",
    "if variable3 == 'PSG':\n",
    "    print (\"C'est le PSG\")\n",
    "elif variable3 == 'OM':\n",
    "    print (\"C'est l'OM\")\n",
    "else:\n",
    "    print (\"aucun des deux\")"
   ]
  },
  {
   "cell_type": "code",
   "execution_count": 9,
   "metadata": {},
   "outputs": [
    {
     "name": "stdout",
     "output_type": "stream",
     "text": [
      "CPU times: user 5 µs, sys: 1 µs, total: 6 µs\n",
      "Wall time: 10 µs\n",
      "PSG\n",
      "PSG\n",
      "PSG\n",
      "\n",
      "PSG\n",
      "PSG\n",
      "PSG\n",
      "0\n",
      "1\n",
      "2\n",
      "\n",
      "1\n",
      "0\n",
      "0M\n",
      "PSG\n",
      "OL\n"
     ]
    }
   ],
   "source": [
    "#boucle for <variable > in list:\n",
    "%time\n",
    "for i in [0,1,2]:\n",
    "    print (variable3)\n",
    "    \n",
    "print ()\n",
    "\n",
    "for i in range (0,3):\n",
    "    print (variable3)\n",
    "    \n",
    "for i in range (3):\n",
    "    print (i)\n",
    "    \n",
    "print ()\n",
    "for i in variable5:\n",
    "    print (i)\n",
    "    \n",
    "del i"
   ]
  },
  {
   "cell_type": "code",
   "execution_count": 10,
   "metadata": {},
   "outputs": [
    {
     "name": "stdout",
     "output_type": "stream",
     "text": [
      "0\n",
      "1\n",
      "2\n",
      "3\n",
      "4\n",
      "5\n",
      "6\n",
      "7\n",
      "8\n",
      "9\n"
     ]
    }
   ],
   "source": [
    "#while <condition> pas resolu , en boucle\n",
    "i = 0\n",
    "while ( i != 10):\n",
    "    print (i)\n",
    "    i += 1"
   ]
  },
  {
   "cell_type": "markdown",
   "metadata": {},
   "source": [
    "                            Les fonctions"
   ]
  },
  {
   "cell_type": "code",
   "execution_count": 11,
   "metadata": {},
   "outputs": [
    {
     "name": "stdout",
     "output_type": "stream",
     "text": [
      "15.0\n",
      "22.0\n",
      "463.5\n"
     ]
    }
   ],
   "source": [
    "# def <nom_fonction> (<arguments>)\n",
    "def mean (number1,number2):\n",
    "    mean_of_two_numbers = (number1 + number2) / 2\n",
    "    return mean_of_two_numbers\n",
    "\n",
    "print (mean (10,20))\n",
    "print (mean (23,21))\n",
    "print (mean (503,424))"
   ]
  }
 ],
 "metadata": {
  "kernelspec": {
   "display_name": "Python 3.8.10 64-bit",
   "language": "python",
   "name": "python3"
  },
  "language_info": {
   "codemirror_mode": {
    "name": "ipython",
    "version": 3
   },
   "file_extension": ".py",
   "mimetype": "text/x-python",
   "name": "python",
   "nbconvert_exporter": "python",
   "pygments_lexer": "ipython3",
   "version": "3.8.10"
  },
  "orig_nbformat": 4,
  "vscode": {
   "interpreter": {
    "hash": "916dbcbb3f70747c44a77c7bcd40155683ae19c65e1c03b4aa3499c5328201f1"
   }
  }
 },
 "nbformat": 4,
 "nbformat_minor": 2
}
