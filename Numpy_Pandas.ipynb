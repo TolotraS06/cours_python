{
 "cells": [
  {
   "cell_type": "markdown",
   "metadata": {},
   "source": [
    "    ANALYSE DE DONNEE AVEC PANDAS & NUMPY"
   ]
  },
  {
   "cell_type": "code",
   "execution_count": 47,
   "metadata": {},
   "outputs": [],
   "source": [
    "import numpy as np\n"
   ]
  },
  {
   "cell_type": "code",
   "execution_count": 48,
   "metadata": {},
   "outputs": [
    {
     "data": {
      "text/plain": [
       "array([1, 2, 3])"
      ]
     },
     "execution_count": 48,
     "metadata": {},
     "output_type": "execute_result"
    }
   ],
   "source": [
    "np.array ([1,2,3]) #cree une array (ndarray)"
   ]
  },
  {
   "cell_type": "code",
   "execution_count": 49,
   "metadata": {},
   "outputs": [
    {
     "data": {
      "text/plain": [
       "array([0, 1, 2, 3, 4, 5, 6, 7, 8, 9])"
      ]
     },
     "execution_count": 49,
     "metadata": {},
     "output_type": "execute_result"
    }
   ],
   "source": [
    "np.arange (10)  #cree une array de 0 a 10"
   ]
  },
  {
   "cell_type": "code",
   "execution_count": 50,
   "metadata": {},
   "outputs": [
    {
     "data": {
      "text/plain": [
       "array([[0, 1],\n",
       "       [2, 3],\n",
       "       [4, 5],\n",
       "       [6, 7],\n",
       "       [8, 9]])"
      ]
     },
     "execution_count": 50,
     "metadata": {},
     "output_type": "execute_result"
    }
   ],
   "source": [
    " # cree une array de 10 element puis le transforme \n",
    " #en matrice de 5 ligne et 2 colonnes\n",
    "np.arange (10).reshape (5,2)"
   ]
  },
  {
   "cell_type": "code",
   "execution_count": 51,
   "metadata": {},
   "outputs": [
    {
     "data": {
      "text/plain": [
       "array([[0., 0., 0.],\n",
       "       [0., 0., 0.],\n",
       "       [0., 0., 0.]])"
      ]
     },
     "execution_count": 51,
     "metadata": {},
     "output_type": "execute_result"
    }
   ],
   "source": [
    "#cree une matrice rempli de zero\n",
    "np.zeros ((3,3))\n",
    "\n",
    "#cree une matrice rempli de un : np.ones ((i,j))\n",
    "#cree une matrice d'identite : np.eye ((i,j))"
   ]
  },
  {
   "cell_type": "code",
   "execution_count": 52,
   "metadata": {},
   "outputs": [
    {
     "data": {
      "text/plain": [
       "array([0.14423403, 0.01683302, 0.99190576, 0.1261717 , 0.09963478,\n",
       "       0.33989315, 0.99202036, 0.83412568, 0.08806337, 0.65810135])"
      ]
     },
     "execution_count": 52,
     "metadata": {},
     "output_type": "execute_result"
    }
   ],
   "source": [
    "#cree une array de dimension 1 aleatoire de dimension \n",
    "# 1 aleatoire de n element\n",
    "\n",
    "np.random.rand (10)"
   ]
  },
  {
   "cell_type": "code",
   "execution_count": 53,
   "metadata": {},
   "outputs": [
    {
     "data": {
      "text/plain": [
       "array([[0.82911758, 0.51335193],\n",
       "       [0.08415334, 0.53303182],\n",
       "       [0.0234848 , 0.57006003]])"
      ]
     },
     "execution_count": 53,
     "metadata": {},
     "output_type": "execute_result"
    }
   ],
   "source": [
    "#cree une array de dimension 1 aleatoire de dimension \n",
    "# i,j random\n",
    "np.random.random (size = (3,2))"
   ]
  },
  {
   "cell_type": "code",
   "execution_count": 54,
   "metadata": {},
   "outputs": [
    {
     "name": "stdout",
     "output_type": "stream",
     "text": [
      "[0.60920412 0.13373919 0.88657373 0.78696145 0.66707374]\n",
      "<class 'numpy.ndarray'>\n",
      "\n",
      "[[0.94189578 0.79364797 0.05529904 0.35524397]\n",
      " [0.30801862 0.11469701 0.71283593 0.74720897]\n",
      " [0.42446287 0.58531922 0.54787527 0.35947065]\n",
      " [0.52096756 0.61901775 0.54772784 0.43878633]]\n",
      "<class 'numpy.ndarray'>\n",
      "\n",
      "0.5853192200295975\n",
      "[0.11469701 0.58531922]\n",
      "[0.42446287 0.58531922]\n",
      "[0.94189578 0.30801862 0.42446287 0.52096756]\n",
      "[0.94189578 0.79364797 0.05529904 0.35524397]\n"
     ]
    }
   ],
   "source": [
    "#indexing\n",
    "\n",
    "myarray = np.random.rand (5)\n",
    "print (myarray)\n",
    "print (type (myarray))\n",
    "\n",
    "print ()\n",
    "\n",
    "myarray_multidim = np.random.rand (16).reshape (4,4)\n",
    "print (myarray_multidim )\n",
    "print (type (myarray_multidim))\n",
    "\n",
    "print ()\n",
    "\n",
    "print (myarray_multidim [2,1])\n",
    "print (myarray_multidim [1:3,1]) #affiche le 2er et 3e ligne de la 2e colone\n",
    "print (myarray_multidim [2,0:2]) #affiche le 1er et 2e colonne de la 3e ligne\n",
    "print (myarray_multidim [:,0]) #affiche la 1er colonne\n",
    "print (myarray_multidim [0,:]) #affiche la 1er ligne\n"
   ]
  },
  {
   "cell_type": "code",
   "execution_count": 55,
   "metadata": {},
   "outputs": [
    {
     "name": "stdout",
     "output_type": "stream",
     "text": [
      "(4, 4)\n",
      "2\n",
      "16\n"
     ]
    }
   ],
   "source": [
    "#np.shape donee la dimension i,j du matrice\n",
    "#np.ndim  donnee la dimension 1d,2d,3d,...\n",
    "#np.size  donnee la taille \n",
    "print(myarray_multidim.shape) \n",
    "print(myarray_multidim.ndim) \n",
    "print(myarray_multidim.size) "
   ]
  },
  {
   "cell_type": "code",
   "execution_count": null,
   "metadata": {},
   "outputs": [],
   "source": [
    "#np.cos,np.log,np.exp,np.sqrt,...\n",
    "np.arrange(10).reshape (5,2)"
   ]
  }
 ],
 "metadata": {
  "kernelspec": {
   "display_name": "Python 3.8.10 64-bit",
   "language": "python",
   "name": "python3"
  },
  "language_info": {
   "codemirror_mode": {
    "name": "ipython",
    "version": 3
   },
   "file_extension": ".py",
   "mimetype": "text/x-python",
   "name": "python",
   "nbconvert_exporter": "python",
   "pygments_lexer": "ipython3",
   "version": "3.8.10"
  },
  "orig_nbformat": 4,
  "vscode": {
   "interpreter": {
    "hash": "916dbcbb3f70747c44a77c7bcd40155683ae19c65e1c03b4aa3499c5328201f1"
   }
  }
 },
 "nbformat": 4,
 "nbformat_minor": 2
}
