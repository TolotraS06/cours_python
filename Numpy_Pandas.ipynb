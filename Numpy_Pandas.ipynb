{
 "cells": [
  {
   "cell_type": "markdown",
   "metadata": {},
   "source": [
    "    ANALYSE DE DONNEE AVEC PANDAS & NUMPY"
   ]
  },
  {
   "cell_type": "code",
   "execution_count": 1,
   "metadata": {},
   "outputs": [],
   "source": [
    "import numpy as np\n"
   ]
  },
  {
   "cell_type": "code",
   "execution_count": 2,
   "metadata": {},
   "outputs": [
    {
     "data": {
      "text/plain": [
       "array([1, 2, 3])"
      ]
     },
     "execution_count": 2,
     "metadata": {},
     "output_type": "execute_result"
    }
   ],
   "source": [
    "np.array ([1,2,3]) #cree une array (ndarray)"
   ]
  },
  {
   "cell_type": "code",
   "execution_count": 3,
   "metadata": {},
   "outputs": [
    {
     "data": {
      "text/plain": [
       "array([0, 1, 2, 3, 4, 5, 6, 7, 8, 9])"
      ]
     },
     "execution_count": 3,
     "metadata": {},
     "output_type": "execute_result"
    }
   ],
   "source": [
    "np.arange (10)  #cree une array de 0 a 10"
   ]
  },
  {
   "cell_type": "code",
   "execution_count": 4,
   "metadata": {},
   "outputs": [
    {
     "data": {
      "text/plain": [
       "array([[0, 1],\n",
       "       [2, 3],\n",
       "       [4, 5],\n",
       "       [6, 7],\n",
       "       [8, 9]])"
      ]
     },
     "execution_count": 4,
     "metadata": {},
     "output_type": "execute_result"
    }
   ],
   "source": [
    " # cree une array de 10 element puis le transforme \n",
    " #en matrice de 5 ligne et 2 colonnes\n",
    "np.arange (10).reshape (5,2)"
   ]
  },
  {
   "cell_type": "code",
   "execution_count": 5,
   "metadata": {},
   "outputs": [
    {
     "data": {
      "text/plain": [
       "array([[0., 0., 0.],\n",
       "       [0., 0., 0.],\n",
       "       [0., 0., 0.]])"
      ]
     },
     "execution_count": 5,
     "metadata": {},
     "output_type": "execute_result"
    }
   ],
   "source": [
    "#cree une matrice rempli de zero\n",
    "np.zeros ((3,3))\n",
    "\n",
    "#cree une matrice rempli de un : np.ones ((i,j))\n",
    "#cree une matrice d'identite : np.eye ((i,j))"
   ]
  },
  {
   "cell_type": "code",
   "execution_count": 6,
   "metadata": {},
   "outputs": [
    {
     "data": {
      "text/plain": [
       "array([0.32019177, 0.20585265, 0.01908171, 0.15632269, 0.76514311,\n",
       "       0.05544107, 0.98457264, 0.89616738, 0.81526879, 0.95608423])"
      ]
     },
     "execution_count": 6,
     "metadata": {},
     "output_type": "execute_result"
    }
   ],
   "source": [
    "#cree une array de dimension 1 aleatoire de dimension \n",
    "# 1 aleatoire de n element\n",
    "\n",
    "np.random.rand (10)"
   ]
  },
  {
   "cell_type": "code",
   "execution_count": 7,
   "metadata": {},
   "outputs": [
    {
     "data": {
      "text/plain": [
       "array([[0.52692356, 0.40491518],\n",
       "       [0.65042421, 0.25797212],\n",
       "       [0.33670408, 0.64959203]])"
      ]
     },
     "execution_count": 7,
     "metadata": {},
     "output_type": "execute_result"
    }
   ],
   "source": [
    "#cree une array de dimension 1 aleatoire de dimension \n",
    "# i,j random\n",
    "np.random.random (size = (3,2))"
   ]
  },
  {
   "cell_type": "code",
   "execution_count": 8,
   "metadata": {},
   "outputs": [
    {
     "name": "stdout",
     "output_type": "stream",
     "text": [
      "[0.45771364 0.47938385 0.59933477 0.69644793 0.86445507]\n",
      "<class 'numpy.ndarray'>\n",
      "\n",
      "[[0.02254176 0.98920912 0.63556656 0.29264518]\n",
      " [0.83016714 0.10794577 0.3246906  0.7132279 ]\n",
      " [0.1125718  0.83901799 0.17496118 0.74962083]\n",
      " [0.93102602 0.12206115 0.98817535 0.40185754]]\n",
      "<class 'numpy.ndarray'>\n",
      "\n",
      "0.8390179893226873\n",
      "[0.10794577 0.83901799]\n",
      "[0.1125718  0.83901799]\n",
      "[0.02254176 0.83016714 0.1125718  0.93102602]\n",
      "[0.02254176 0.98920912 0.63556656 0.29264518]\n"
     ]
    }
   ],
   "source": [
    "#indexing\n",
    "\n",
    "myarray = np.random.rand (5)\n",
    "print (myarray)\n",
    "print (type (myarray))\n",
    "\n",
    "print ()\n",
    "\n",
    "myarray_multidim = np.random.rand (16).reshape (4,4)\n",
    "print (myarray_multidim )\n",
    "print (type (myarray_multidim))\n",
    "\n",
    "print ()\n",
    "\n",
    "print (myarray_multidim [2,1])\n",
    "print (myarray_multidim [1:3,1]) #affiche le 2er et 3e ligne de la 2e colone\n",
    "print (myarray_multidim [2,0:2]) #affiche le 1er et 2e colonne de la 3e ligne\n",
    "print (myarray_multidim [:,0]) #affiche la 1er colonne\n",
    "print (myarray_multidim [0,:]) #affiche la 1er ligne\n"
   ]
  },
  {
   "cell_type": "code",
   "execution_count": 9,
   "metadata": {},
   "outputs": [
    {
     "name": "stdout",
     "output_type": "stream",
     "text": [
      "(4, 4)\n",
      "2\n",
      "16\n"
     ]
    }
   ],
   "source": [
    "#np.shape donee la dimension i,j du matrice\n",
    "#np.ndim  donnee la dimension 1d,2d,3d,...\n",
    "#np.size  donnee la taille \n",
    "print(myarray_multidim.shape) \n",
    "print(myarray_multidim.ndim) \n",
    "print(myarray_multidim.size) "
   ]
  },
  {
   "cell_type": "code",
   "execution_count": 12,
   "metadata": {},
   "outputs": [
    {
     "name": "stdout",
     "output_type": "stream",
     "text": [
      "[[0 1]\n",
      " [2 3]\n",
      " [4 5]\n",
      " [6 7]\n",
      " [8 9]]\n",
      "[[ 1.          0.54030231]\n",
      " [-0.41614684 -0.9899925 ]\n",
      " [-0.65364362  0.28366219]\n",
      " [ 0.96017029  0.75390225]\n",
      " [-0.14550003 -0.91113026]]\n",
      "[[1.00000000e+00 2.71828183e+00]\n",
      " [7.38905610e+00 2.00855369e+01]\n",
      " [5.45981500e+01 1.48413159e+02]\n",
      " [4.03428793e+02 1.09663316e+03]\n",
      " [2.98095799e+03 8.10308393e+03]]\n"
     ]
    }
   ],
   "source": [
    "#np.cos,np.log,np.exp,np.sqrt,...\n",
    "#applique une calcule mathematique sur \n",
    "#toute la matrice\n",
    "myarray = np.arange(10).reshape (5,2) \n",
    "print (myarray)\n",
    "print (np.cos(myarray))\n",
    "print (np.exp (myarray))"
   ]
  },
  {
   "cell_type": "code",
   "execution_count": null,
   "metadata": {},
   "outputs": [],
   "source": []
  }
 ],
 "metadata": {
  "kernelspec": {
   "display_name": "Python 3.8.10 64-bit",
   "language": "python",
   "name": "python3"
  },
  "language_info": {
   "codemirror_mode": {
    "name": "ipython",
    "version": 3
   },
   "file_extension": ".py",
   "mimetype": "text/x-python",
   "name": "python",
   "nbconvert_exporter": "python",
   "pygments_lexer": "ipython3",
   "version": "3.8.10"
  },
  "orig_nbformat": 4,
  "vscode": {
   "interpreter": {
    "hash": "916dbcbb3f70747c44a77c7bcd40155683ae19c65e1c03b4aa3499c5328201f1"
   }
  }
 },
 "nbformat": 4,
 "nbformat_minor": 2
}
