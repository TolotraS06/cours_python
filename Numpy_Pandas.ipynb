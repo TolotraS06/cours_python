{
 "cells": [
  {
   "cell_type": "markdown",
   "metadata": {},
   "source": [
    "    ANALYSE DE DONNEE AVEC PANDAS & NUMPY"
   ]
  },
  {
   "cell_type": "code",
   "execution_count": 1,
   "metadata": {},
   "outputs": [],
   "source": [
    "import numpy as np\n"
   ]
  },
  {
   "cell_type": "code",
   "execution_count": 2,
   "metadata": {},
   "outputs": [
    {
     "data": {
      "text/plain": [
       "array([1, 2, 3])"
      ]
     },
     "execution_count": 2,
     "metadata": {},
     "output_type": "execute_result"
    }
   ],
   "source": [
    "np.array ([1,2,3]) #cree une array (ndarray)"
   ]
  },
  {
   "cell_type": "code",
   "execution_count": 3,
   "metadata": {},
   "outputs": [
    {
     "data": {
      "text/plain": [
       "array([0, 1, 2, 3, 4, 5, 6, 7, 8, 9])"
      ]
     },
     "execution_count": 3,
     "metadata": {},
     "output_type": "execute_result"
    }
   ],
   "source": [
    "np.arange (10)  #cree une array de 0 a 10"
   ]
  },
  {
   "cell_type": "code",
   "execution_count": 4,
   "metadata": {},
   "outputs": [
    {
     "data": {
      "text/plain": [
       "array([[0, 1],\n",
       "       [2, 3],\n",
       "       [4, 5],\n",
       "       [6, 7],\n",
       "       [8, 9]])"
      ]
     },
     "execution_count": 4,
     "metadata": {},
     "output_type": "execute_result"
    }
   ],
   "source": [
    " # cree une array de 10 element puis le transforme \n",
    " #en matrice de 5 ligne et 2 colonnes\n",
    "np.arange (10).reshape (5,2)"
   ]
  },
  {
   "cell_type": "code",
   "execution_count": 5,
   "metadata": {},
   "outputs": [
    {
     "data": {
      "text/plain": [
       "array([[0., 0., 0.],\n",
       "       [0., 0., 0.],\n",
       "       [0., 0., 0.]])"
      ]
     },
     "execution_count": 5,
     "metadata": {},
     "output_type": "execute_result"
    }
   ],
   "source": [
    "#cree une matrice rempli de zero\n",
    "np.zeros ((3,3))\n",
    "\n",
    "#cree une matrice rempli de un : np.ones ((i,j))\n",
    "#cree une matrice d'identite : np.eye ((i,j))"
   ]
  },
  {
   "cell_type": "code",
   "execution_count": 6,
   "metadata": {},
   "outputs": [
    {
     "data": {
      "text/plain": [
       "array([0.56225865, 0.31234755, 0.81158479, 0.61327104, 0.06042137,\n",
       "       0.24255328, 0.0943483 , 0.81688906, 0.55024417, 0.86324986])"
      ]
     },
     "execution_count": 6,
     "metadata": {},
     "output_type": "execute_result"
    }
   ],
   "source": [
    "#cree une array de dimension 1 aleatoire de dimension \n",
    "# 1 aleatoire de n element\n",
    "\n",
    "np.random.rand (10)"
   ]
  },
  {
   "cell_type": "code",
   "execution_count": 7,
   "metadata": {},
   "outputs": [
    {
     "data": {
      "text/plain": [
       "array([[0.13812512, 0.74041693],\n",
       "       [0.78945118, 0.86831769],\n",
       "       [0.55794094, 0.00736838]])"
      ]
     },
     "execution_count": 7,
     "metadata": {},
     "output_type": "execute_result"
    }
   ],
   "source": [
    "#cree une array de dimension 1 aleatoire de dimension \n",
    "# i,j random\n",
    "np.random.random (size = (3,2))"
   ]
  },
  {
   "cell_type": "code",
   "execution_count": 8,
   "metadata": {},
   "outputs": [
    {
     "name": "stdout",
     "output_type": "stream",
     "text": [
      "[0.8409123  0.33280775 0.2646928  0.67381935 0.684922  ]\n",
      "<class 'numpy.ndarray'>\n",
      "\n",
      "[[0.50523411 0.45963496 0.56206799 0.8087256 ]\n",
      " [0.26963018 0.23704066 0.78873011 0.67931698]\n",
      " [0.59579991 0.51440996 0.73519583 0.73881041]\n",
      " [0.63524497 0.50340718 0.33326407 0.05355829]]\n",
      "<class 'numpy.ndarray'>\n",
      "\n",
      "0.5144099566269646\n",
      "[0.23704066 0.51440996]\n",
      "[0.59579991 0.51440996]\n",
      "[0.50523411 0.26963018 0.59579991 0.63524497]\n",
      "[0.50523411 0.45963496 0.56206799 0.8087256 ]\n"
     ]
    }
   ],
   "source": [
    "#indexing\n",
    "\n",
    "myarray = np.random.rand (5)\n",
    "print (myarray)\n",
    "print (type (myarray))\n",
    "\n",
    "print ()\n",
    "\n",
    "myarray_multidim = np.random.rand (16).reshape (4,4)\n",
    "print (myarray_multidim )\n",
    "print (type (myarray_multidim))\n",
    "\n",
    "print ()\n",
    "\n",
    "print (myarray_multidim [2,1])\n",
    "print (myarray_multidim [1:3,1]) #affiche le 2er et 3e ligne de la 2e colone\n",
    "print (myarray_multidim [2,0:2]) #affiche le 1er et 2e colonne de la 3e ligne\n",
    "print (myarray_multidim [:,0]) #affiche la 1er colonne\n",
    "print (myarray_multidim [0,:]) #affiche la 1er ligne\n"
   ]
  },
  {
   "cell_type": "code",
   "execution_count": 9,
   "metadata": {},
   "outputs": [
    {
     "name": "stdout",
     "output_type": "stream",
     "text": [
      "(4, 4)\n",
      "2\n",
      "16\n"
     ]
    }
   ],
   "source": [
    "#np.shape donee la dimension i,j du matrice\n",
    "#np.ndim  donnee la dimension 1d,2d,3d,...\n",
    "#np.size  donnee la taille \n",
    "print(myarray_multidim.shape) \n",
    "print(myarray_multidim.ndim) \n",
    "print(myarray_multidim.size) "
   ]
  },
  {
   "cell_type": "code",
   "execution_count": 10,
   "metadata": {},
   "outputs": [
    {
     "name": "stdout",
     "output_type": "stream",
     "text": [
      "[[0 1]\n",
      " [2 3]\n",
      " [4 5]\n",
      " [6 7]\n",
      " [8 9]]\n",
      "[[ 1.          0.54030231]\n",
      " [-0.41614684 -0.9899925 ]\n",
      " [-0.65364362  0.28366219]\n",
      " [ 0.96017029  0.75390225]\n",
      " [-0.14550003 -0.91113026]]\n",
      "[[1.00000000e+00 2.71828183e+00]\n",
      " [7.38905610e+00 2.00855369e+01]\n",
      " [5.45981500e+01 1.48413159e+02]\n",
      " [4.03428793e+02 1.09663316e+03]\n",
      " [2.98095799e+03 8.10308393e+03]]\n"
     ]
    }
   ],
   "source": [
    "#np.cos,np.log,np.exp,np.sqrt,...\n",
    "#applique une calcule mathematique sur \n",
    "#toute la matrice\n",
    "myarray = np.arange(10).reshape (5,2) \n",
    "print (myarray)\n",
    "print (np.cos(myarray))\n",
    "print (np.exp (myarray))"
   ]
  },
  {
   "cell_type": "code",
   "execution_count": 11,
   "metadata": {},
   "outputs": [
    {
     "name": "stdout",
     "output_type": "stream",
     "text": [
      "[[0 1]\n",
      " [2 3]\n",
      " [4 5]\n",
      " [6 7]\n",
      " [8 9]]\n",
      "0\n",
      "9\n",
      "4.5\n",
      "45\n"
     ]
    }
   ],
   "source": [
    "#fontions np.sum,np.min,np.max,np.mean\n",
    "print(myarray)\n",
    "print (myarray.min())\n",
    "print (myarray.max())\n",
    "print (myarray.mean())\n",
    "print (myarray.sum())"
   ]
  },
  {
   "cell_type": "markdown",
   "metadata": {},
   "source": [
    "    calcule matricielle"
   ]
  },
  {
   "cell_type": "code",
   "execution_count": 12,
   "metadata": {},
   "outputs": [
    {
     "name": "stdout",
     "output_type": "stream",
     "text": [
      "[[ 0  1  2  3]\n",
      " [ 4  5  6  7]\n",
      " [ 8  9 10 11]\n",
      " [12 13 14 15]]\n",
      "[[0.55830888 0.50340676 0.30342036 0.85209354]\n",
      " [0.83198231 0.22238758 0.04962361 0.51951992]\n",
      " [0.73306963 0.25274948 0.93724865 0.07700374]\n",
      " [0.22753869 0.64387574 0.069211   0.51611344]]\n",
      "\n",
      "[[0.         0.50340676 0.60684073 2.55628062]\n",
      " [3.32792925 1.11193788 0.29774164 3.63663942]\n",
      " [5.86455702 2.27474532 9.37248647 0.84704117]\n",
      " [2.73046426 8.37038463 0.96895403 7.74170155]]\n"
     ]
    }
   ],
   "source": [
    "#produit element par element\n",
    "A = np.arange(16).reshape (4,4)\n",
    "print (A)\n",
    "B = np.random.rand(16).reshape (4,4)\n",
    "print (B)\n",
    "print ()\n",
    "print (A*B)"
   ]
  },
  {
   "cell_type": "code",
   "execution_count": 13,
   "metadata": {},
   "outputs": [
    {
     "name": "stdout",
     "output_type": "stream",
     "text": [
      "[[ 2.98073763  2.65951376  2.13175391  2.22186771]\n",
      " [12.38433566  9.14919198  7.56976838 10.08079026]\n",
      " [21.78793368 15.6388702  13.00778286 17.9397128 ]\n",
      " [31.1915317  22.12854842 18.44579733 25.79863535]]\n",
      "\n",
      "[[ 2.98073763  2.65951376  2.13175391  2.22186771]\n",
      " [12.38433566  9.14919198  7.56976838 10.08079026]\n",
      " [21.78793368 15.6388702  13.00778286 17.9397128 ]\n",
      " [31.1915317  22.12854842 18.44579733 25.79863535]]\n"
     ]
    }
   ],
   "source": [
    "#produit matricil ou array1.dot (array2)\n",
    "print (A@B)\n",
    "print ()\n",
    "print (A.dot (B))"
   ]
  },
  {
   "cell_type": "code",
   "execution_count": 14,
   "metadata": {},
   "outputs": [
    {
     "name": "stdout",
     "output_type": "stream",
     "text": [
      "[[ 0  1  2]\n",
      " [ 3  4  5]\n",
      " [ 6  7  8]\n",
      " [ 9 10 11]]\n",
      "\n",
      "[[ 0  3  6  9]\n",
      " [ 1  4  7 10]\n",
      " [ 2  5  8 11]]\n",
      "\n",
      "[[ 0  1  2]\n",
      " [ 3  4  5]\n",
      " [ 6  7  8]\n",
      " [ 9 10 11]]\n"
     ]
    }
   ],
   "source": [
    "#transposee d'une matrice\n",
    "C = np.arange (12).reshape (4,3)\n",
    "print (C)\n",
    "print ()\n",
    "C = C.T\n",
    "print (C)\n",
    "print ()\n",
    "print (C.transpose ())"
   ]
  },
  {
   "cell_type": "code",
   "execution_count": 15,
   "metadata": {},
   "outputs": [
    {
     "data": {
      "text/plain": [
       "array([[  2.40605505,  -1.37919918,   7.26071828,  -4.72383356],\n",
       "       [ -0.89246372,   0.54412504, -11.02320311,   7.67607447],\n",
       "       [ -3.60066165,   4.645706  , -20.60132532,  12.05788862],\n",
       "       [  0.3362168 ,  -0.70918319,  12.57972947,  -6.90130577]])"
      ]
     },
     "execution_count": 15,
     "metadata": {},
     "output_type": "execute_result"
    }
   ],
   "source": [
    "#matrice inversible\n",
    "#np.linalg.inv (matrice) matrice carre\n",
    "np.linalg.inv (np.random.rand (16).reshape(4,4))"
   ]
  },
  {
   "cell_type": "markdown",
   "metadata": {},
   "source": [
    "        Pandas"
   ]
  },
  {
   "cell_type": "code",
   "execution_count": 16,
   "metadata": {},
   "outputs": [
    {
     "data": {
      "text/plain": [
       "0    1\n",
       "1    2\n",
       "2    3\n",
       "dtype: int64"
      ]
     },
     "execution_count": 16,
     "metadata": {},
     "output_type": "execute_result"
    }
   ],
   "source": [
    "import pandas as pd\n",
    "\n",
    "pd.Series (np.array([1,2,3]))\n"
   ]
  },
  {
   "cell_type": "code",
   "execution_count": 17,
   "metadata": {},
   "outputs": [
    {
     "data": {
      "text/html": [
       "<div>\n",
       "<style scoped>\n",
       "    .dataframe tbody tr th:only-of-type {\n",
       "        vertical-align: middle;\n",
       "    }\n",
       "\n",
       "    .dataframe tbody tr th {\n",
       "        vertical-align: top;\n",
       "    }\n",
       "\n",
       "    .dataframe thead th {\n",
       "        text-align: right;\n",
       "    }\n",
       "</style>\n",
       "<table border=\"1\" class=\"dataframe\">\n",
       "  <thead>\n",
       "    <tr style=\"text-align: right;\">\n",
       "      <th></th>\n",
       "      <th>col1</th>\n",
       "      <th>col2</th>\n",
       "    </tr>\n",
       "  </thead>\n",
       "  <tbody>\n",
       "    <tr>\n",
       "      <th>0</th>\n",
       "      <td>1</td>\n",
       "      <td>5</td>\n",
       "    </tr>\n",
       "    <tr>\n",
       "      <th>1</th>\n",
       "      <td>2</td>\n",
       "      <td>4</td>\n",
       "    </tr>\n",
       "    <tr>\n",
       "      <th>2</th>\n",
       "      <td>3</td>\n",
       "      <td>3</td>\n",
       "    </tr>\n",
       "  </tbody>\n",
       "</table>\n",
       "</div>"
      ],
      "text/plain": [
       "   col1  col2\n",
       "0     1     5\n",
       "1     2     4\n",
       "2     3     3"
      ]
     },
     "execution_count": 17,
     "metadata": {},
     "output_type": "execute_result"
    }
   ],
   "source": [
    "pd.DataFrame ({\"col1\":[1,2,3],\n",
    "              \"col2\":[5,4,3]})"
   ]
  },
  {
   "cell_type": "code",
   "execution_count": 18,
   "metadata": {},
   "outputs": [
    {
     "data": {
      "text/html": [
       "<div>\n",
       "<style scoped>\n",
       "    .dataframe tbody tr th:only-of-type {\n",
       "        vertical-align: middle;\n",
       "    }\n",
       "\n",
       "    .dataframe tbody tr th {\n",
       "        vertical-align: top;\n",
       "    }\n",
       "\n",
       "    .dataframe thead th {\n",
       "        text-align: right;\n",
       "    }\n",
       "</style>\n",
       "<table border=\"1\" class=\"dataframe\">\n",
       "  <thead>\n",
       "    <tr style=\"text-align: right;\">\n",
       "      <th></th>\n",
       "      <th>P</th>\n",
       "      <th>ans</th>\n",
       "    </tr>\n",
       "  </thead>\n",
       "  <tbody>\n",
       "    <tr>\n",
       "      <th>0</th>\n",
       "      <td>Profil</td>\n",
       "      <td>Eau</td>\n",
       "    </tr>\n",
       "    <tr>\n",
       "      <th>1</th>\n",
       "      <td>Papa</td>\n",
       "      <td>clavier</td>\n",
       "    </tr>\n",
       "  </tbody>\n",
       "</table>\n",
       "</div>"
      ],
      "text/plain": [
       "        P      ans\n",
       "0  Profil      Eau\n",
       "1    Papa  clavier"
      ]
     },
     "execution_count": 18,
     "metadata": {},
     "output_type": "execute_result"
    }
   ],
   "source": [
    "\n",
    "pd.DataFrame ({'P':['Profil','Papa'],\n",
    "            'ans': ['Eau','clavier']})"
   ]
  },
  {
   "cell_type": "code",
   "execution_count": 19,
   "metadata": {},
   "outputs": [
    {
     "data": {
      "text/html": [
       "<div>\n",
       "<style scoped>\n",
       "    .dataframe tbody tr th:only-of-type {\n",
       "        vertical-align: middle;\n",
       "    }\n",
       "\n",
       "    .dataframe tbody tr th {\n",
       "        vertical-align: top;\n",
       "    }\n",
       "\n",
       "    .dataframe thead th {\n",
       "        text-align: right;\n",
       "    }\n",
       "</style>\n",
       "<table border=\"1\" class=\"dataframe\">\n",
       "  <thead>\n",
       "    <tr style=\"text-align: right;\">\n",
       "      <th></th>\n",
       "      <th>FIPS</th>\n",
       "      <th>Admin2</th>\n",
       "      <th>Province_State</th>\n",
       "      <th>Country_Region</th>\n",
       "      <th>Last_Update</th>\n",
       "      <th>Lat</th>\n",
       "      <th>Long_</th>\n",
       "      <th>Confirmed</th>\n",
       "      <th>Deaths</th>\n",
       "      <th>Recovered</th>\n",
       "      <th>Active</th>\n",
       "      <th>Combined_Key</th>\n",
       "    </tr>\n",
       "  </thead>\n",
       "  <tbody>\n",
       "    <tr>\n",
       "      <th>0</th>\n",
       "      <td>45001.0</td>\n",
       "      <td>Abbeville</td>\n",
       "      <td>South Carolina</td>\n",
       "      <td>US</td>\n",
       "      <td>2020-04-19 23:41:01</td>\n",
       "      <td>34.223334</td>\n",
       "      <td>-82.461707</td>\n",
       "      <td>17</td>\n",
       "      <td>0</td>\n",
       "      <td>0</td>\n",
       "      <td>17</td>\n",
       "      <td>Abbeville, South Carolina, US</td>\n",
       "    </tr>\n",
       "    <tr>\n",
       "      <th>1</th>\n",
       "      <td>22001.0</td>\n",
       "      <td>Acadia</td>\n",
       "      <td>Louisiana</td>\n",
       "      <td>US</td>\n",
       "      <td>2020-04-19 23:41:01</td>\n",
       "      <td>30.295065</td>\n",
       "      <td>-92.414197</td>\n",
       "      <td>110</td>\n",
       "      <td>7</td>\n",
       "      <td>0</td>\n",
       "      <td>103</td>\n",
       "      <td>Acadia, Louisiana, US</td>\n",
       "    </tr>\n",
       "    <tr>\n",
       "      <th>2</th>\n",
       "      <td>51001.0</td>\n",
       "      <td>Accomack</td>\n",
       "      <td>Virginia</td>\n",
       "      <td>US</td>\n",
       "      <td>2020-04-19 23:41:01</td>\n",
       "      <td>37.767072</td>\n",
       "      <td>-75.632346</td>\n",
       "      <td>42</td>\n",
       "      <td>0</td>\n",
       "      <td>0</td>\n",
       "      <td>42</td>\n",
       "      <td>Accomack, Virginia, US</td>\n",
       "    </tr>\n",
       "    <tr>\n",
       "      <th>3</th>\n",
       "      <td>16001.0</td>\n",
       "      <td>Ada</td>\n",
       "      <td>Idaho</td>\n",
       "      <td>US</td>\n",
       "      <td>2020-04-19 23:41:01</td>\n",
       "      <td>43.452658</td>\n",
       "      <td>-116.241552</td>\n",
       "      <td>598</td>\n",
       "      <td>10</td>\n",
       "      <td>0</td>\n",
       "      <td>588</td>\n",
       "      <td>Ada, Idaho, US</td>\n",
       "    </tr>\n",
       "    <tr>\n",
       "      <th>4</th>\n",
       "      <td>19001.0</td>\n",
       "      <td>Adair</td>\n",
       "      <td>Iowa</td>\n",
       "      <td>US</td>\n",
       "      <td>2020-04-19 23:41:01</td>\n",
       "      <td>41.330756</td>\n",
       "      <td>-94.471059</td>\n",
       "      <td>1</td>\n",
       "      <td>0</td>\n",
       "      <td>0</td>\n",
       "      <td>1</td>\n",
       "      <td>Adair, Iowa, US</td>\n",
       "    </tr>\n",
       "  </tbody>\n",
       "</table>\n",
       "</div>"
      ],
      "text/plain": [
       "      FIPS     Admin2  Province_State Country_Region          Last_Update  \\\n",
       "0  45001.0  Abbeville  South Carolina             US  2020-04-19 23:41:01   \n",
       "1  22001.0     Acadia       Louisiana             US  2020-04-19 23:41:01   \n",
       "2  51001.0   Accomack        Virginia             US  2020-04-19 23:41:01   \n",
       "3  16001.0        Ada           Idaho             US  2020-04-19 23:41:01   \n",
       "4  19001.0      Adair            Iowa             US  2020-04-19 23:41:01   \n",
       "\n",
       "         Lat       Long_  Confirmed  Deaths  Recovered  Active  \\\n",
       "0  34.223334  -82.461707         17       0          0      17   \n",
       "1  30.295065  -92.414197        110       7          0     103   \n",
       "2  37.767072  -75.632346         42       0          0      42   \n",
       "3  43.452658 -116.241552        598      10          0     588   \n",
       "4  41.330756  -94.471059          1       0          0       1   \n",
       "\n",
       "                    Combined_Key  \n",
       "0  Abbeville, South Carolina, US  \n",
       "1          Acadia, Louisiana, US  \n",
       "2         Accomack, Virginia, US  \n",
       "3                 Ada, Idaho, US  \n",
       "4                Adair, Iowa, US  "
      ]
     },
     "execution_count": 19,
     "metadata": {},
     "output_type": "execute_result"
    }
   ],
   "source": [
    "df_covid = pd.read_csv (\"04-19-2020.csv\")\n",
    "df_covid.head (5)"
   ]
  },
  {
   "cell_type": "code",
   "execution_count": 20,
   "metadata": {},
   "outputs": [
    {
     "data": {
      "text/html": [
       "<div>\n",
       "<style scoped>\n",
       "    .dataframe tbody tr th:only-of-type {\n",
       "        vertical-align: middle;\n",
       "    }\n",
       "\n",
       "    .dataframe tbody tr th {\n",
       "        vertical-align: top;\n",
       "    }\n",
       "\n",
       "    .dataframe thead th {\n",
       "        text-align: right;\n",
       "    }\n",
       "</style>\n",
       "<table border=\"1\" class=\"dataframe\">\n",
       "  <thead>\n",
       "    <tr style=\"text-align: right;\">\n",
       "      <th></th>\n",
       "      <th>FIPS</th>\n",
       "      <th>Admin2</th>\n",
       "      <th>Province_State</th>\n",
       "      <th>Last_Update</th>\n",
       "      <th>Lat</th>\n",
       "      <th>Long_</th>\n",
       "      <th>Confirmed</th>\n",
       "      <th>Deaths</th>\n",
       "      <th>Recovered</th>\n",
       "      <th>Active</th>\n",
       "      <th>Combined_Key</th>\n",
       "    </tr>\n",
       "    <tr>\n",
       "      <th>Country_Region</th>\n",
       "      <th></th>\n",
       "      <th></th>\n",
       "      <th></th>\n",
       "      <th></th>\n",
       "      <th></th>\n",
       "      <th></th>\n",
       "      <th></th>\n",
       "      <th></th>\n",
       "      <th></th>\n",
       "      <th></th>\n",
       "      <th></th>\n",
       "    </tr>\n",
       "  </thead>\n",
       "  <tbody>\n",
       "    <tr>\n",
       "      <th>US</th>\n",
       "      <td>45001.0</td>\n",
       "      <td>Abbeville</td>\n",
       "      <td>South Carolina</td>\n",
       "      <td>2020-04-19 23:41:01</td>\n",
       "      <td>34.223334</td>\n",
       "      <td>-82.461707</td>\n",
       "      <td>17</td>\n",
       "      <td>0</td>\n",
       "      <td>0</td>\n",
       "      <td>17</td>\n",
       "      <td>Abbeville, South Carolina, US</td>\n",
       "    </tr>\n",
       "    <tr>\n",
       "      <th>US</th>\n",
       "      <td>22001.0</td>\n",
       "      <td>Acadia</td>\n",
       "      <td>Louisiana</td>\n",
       "      <td>2020-04-19 23:41:01</td>\n",
       "      <td>30.295065</td>\n",
       "      <td>-92.414197</td>\n",
       "      <td>110</td>\n",
       "      <td>7</td>\n",
       "      <td>0</td>\n",
       "      <td>103</td>\n",
       "      <td>Acadia, Louisiana, US</td>\n",
       "    </tr>\n",
       "  </tbody>\n",
       "</table>\n",
       "</div>"
      ],
      "text/plain": [
       "                   FIPS     Admin2  Province_State          Last_Update  \\\n",
       "Country_Region                                                            \n",
       "US              45001.0  Abbeville  South Carolina  2020-04-19 23:41:01   \n",
       "US              22001.0     Acadia       Louisiana  2020-04-19 23:41:01   \n",
       "\n",
       "                      Lat      Long_  Confirmed  Deaths  Recovered  Active  \\\n",
       "Country_Region                                                               \n",
       "US              34.223334 -82.461707         17       0          0      17   \n",
       "US              30.295065 -92.414197        110       7          0     103   \n",
       "\n",
       "                                 Combined_Key  \n",
       "Country_Region                                 \n",
       "US              Abbeville, South Carolina, US  \n",
       "US                      Acadia, Louisiana, US  "
      ]
     },
     "execution_count": 20,
     "metadata": {},
     "output_type": "execute_result"
    }
   ],
   "source": [
    "#enregistre en memoire \n",
    "#def_covid = df_covid.set_index ('Country_Region').head ()\n",
    "df_covid.set_index ('Country_Region', inplace=True)\n",
    "df_covid.head (2)"
   ]
  },
  {
   "cell_type": "code",
   "execution_count": 21,
   "metadata": {},
   "outputs": [
    {
     "data": {
      "text/html": [
       "<div>\n",
       "<style scoped>\n",
       "    .dataframe tbody tr th:only-of-type {\n",
       "        vertical-align: middle;\n",
       "    }\n",
       "\n",
       "    .dataframe tbody tr th {\n",
       "        vertical-align: top;\n",
       "    }\n",
       "\n",
       "    .dataframe thead th {\n",
       "        text-align: right;\n",
       "    }\n",
       "</style>\n",
       "<table border=\"1\" class=\"dataframe\">\n",
       "  <thead>\n",
       "    <tr style=\"text-align: right;\">\n",
       "      <th></th>\n",
       "      <th>Country_Region</th>\n",
       "      <th>FIPS</th>\n",
       "      <th>Admin2</th>\n",
       "      <th>Province_State</th>\n",
       "      <th>Last_Update</th>\n",
       "      <th>Lat</th>\n",
       "      <th>Long_</th>\n",
       "      <th>Confirmed</th>\n",
       "      <th>Deaths</th>\n",
       "      <th>Recovered</th>\n",
       "      <th>Active</th>\n",
       "      <th>Combined_Key</th>\n",
       "    </tr>\n",
       "  </thead>\n",
       "  <tbody>\n",
       "    <tr>\n",
       "      <th>0</th>\n",
       "      <td>US</td>\n",
       "      <td>45001.0</td>\n",
       "      <td>Abbeville</td>\n",
       "      <td>South Carolina</td>\n",
       "      <td>2020-04-19 23:41:01</td>\n",
       "      <td>34.223334</td>\n",
       "      <td>-82.461707</td>\n",
       "      <td>17</td>\n",
       "      <td>0</td>\n",
       "      <td>0</td>\n",
       "      <td>17</td>\n",
       "      <td>Abbeville, South Carolina, US</td>\n",
       "    </tr>\n",
       "    <tr>\n",
       "      <th>1</th>\n",
       "      <td>US</td>\n",
       "      <td>22001.0</td>\n",
       "      <td>Acadia</td>\n",
       "      <td>Louisiana</td>\n",
       "      <td>2020-04-19 23:41:01</td>\n",
       "      <td>30.295065</td>\n",
       "      <td>-92.414197</td>\n",
       "      <td>110</td>\n",
       "      <td>7</td>\n",
       "      <td>0</td>\n",
       "      <td>103</td>\n",
       "      <td>Acadia, Louisiana, US</td>\n",
       "    </tr>\n",
       "    <tr>\n",
       "      <th>2</th>\n",
       "      <td>US</td>\n",
       "      <td>51001.0</td>\n",
       "      <td>Accomack</td>\n",
       "      <td>Virginia</td>\n",
       "      <td>2020-04-19 23:41:01</td>\n",
       "      <td>37.767072</td>\n",
       "      <td>-75.632346</td>\n",
       "      <td>42</td>\n",
       "      <td>0</td>\n",
       "      <td>0</td>\n",
       "      <td>42</td>\n",
       "      <td>Accomack, Virginia, US</td>\n",
       "    </tr>\n",
       "  </tbody>\n",
       "</table>\n",
       "</div>"
      ],
      "text/plain": [
       "  Country_Region     FIPS     Admin2  Province_State          Last_Update  \\\n",
       "0             US  45001.0  Abbeville  South Carolina  2020-04-19 23:41:01   \n",
       "1             US  22001.0     Acadia       Louisiana  2020-04-19 23:41:01   \n",
       "2             US  51001.0   Accomack        Virginia  2020-04-19 23:41:01   \n",
       "\n",
       "         Lat      Long_  Confirmed  Deaths  Recovered  Active  \\\n",
       "0  34.223334 -82.461707         17       0          0      17   \n",
       "1  30.295065 -92.414197        110       7          0     103   \n",
       "2  37.767072 -75.632346         42       0          0      42   \n",
       "\n",
       "                    Combined_Key  \n",
       "0  Abbeville, South Carolina, US  \n",
       "1          Acadia, Louisiana, US  \n",
       "2         Accomack, Virginia, US  "
      ]
     },
     "execution_count": 21,
     "metadata": {},
     "output_type": "execute_result"
    }
   ],
   "source": [
    "df_covid = df_covid.reset_index ()\n",
    "df_covid.head (3)"
   ]
  },
  {
   "cell_type": "code",
   "execution_count": 22,
   "metadata": {},
   "outputs": [
    {
     "data": {
      "text/html": [
       "<div>\n",
       "<style scoped>\n",
       "    .dataframe tbody tr th:only-of-type {\n",
       "        vertical-align: middle;\n",
       "    }\n",
       "\n",
       "    .dataframe tbody tr th {\n",
       "        vertical-align: top;\n",
       "    }\n",
       "\n",
       "    .dataframe thead th {\n",
       "        text-align: right;\n",
       "    }\n",
       "</style>\n",
       "<table border=\"1\" class=\"dataframe\">\n",
       "  <thead>\n",
       "    <tr style=\"text-align: right;\">\n",
       "      <th></th>\n",
       "      <th>Country_Region</th>\n",
       "      <th>FIPS</th>\n",
       "      <th>Admin</th>\n",
       "      <th>Province_State</th>\n",
       "      <th>Last_Update</th>\n",
       "      <th>Lat</th>\n",
       "      <th>Long_</th>\n",
       "      <th>Confirmed</th>\n",
       "      <th>Deaths</th>\n",
       "      <th>Recovered</th>\n",
       "      <th>Active</th>\n",
       "      <th>Combined_Key</th>\n",
       "    </tr>\n",
       "  </thead>\n",
       "  <tbody>\n",
       "    <tr>\n",
       "      <th>0</th>\n",
       "      <td>US</td>\n",
       "      <td>45001.0</td>\n",
       "      <td>Abbeville</td>\n",
       "      <td>South Carolina</td>\n",
       "      <td>2020-04-19 23:41:01</td>\n",
       "      <td>34.223334</td>\n",
       "      <td>-82.461707</td>\n",
       "      <td>17</td>\n",
       "      <td>0</td>\n",
       "      <td>0</td>\n",
       "      <td>17</td>\n",
       "      <td>Abbeville, South Carolina, US</td>\n",
       "    </tr>\n",
       "    <tr>\n",
       "      <th>1</th>\n",
       "      <td>US</td>\n",
       "      <td>22001.0</td>\n",
       "      <td>Acadia</td>\n",
       "      <td>Louisiana</td>\n",
       "      <td>2020-04-19 23:41:01</td>\n",
       "      <td>30.295065</td>\n",
       "      <td>-92.414197</td>\n",
       "      <td>110</td>\n",
       "      <td>7</td>\n",
       "      <td>0</td>\n",
       "      <td>103</td>\n",
       "      <td>Acadia, Louisiana, US</td>\n",
       "    </tr>\n",
       "    <tr>\n",
       "      <th>2</th>\n",
       "      <td>US</td>\n",
       "      <td>51001.0</td>\n",
       "      <td>Accomack</td>\n",
       "      <td>Virginia</td>\n",
       "      <td>2020-04-19 23:41:01</td>\n",
       "      <td>37.767072</td>\n",
       "      <td>-75.632346</td>\n",
       "      <td>42</td>\n",
       "      <td>0</td>\n",
       "      <td>0</td>\n",
       "      <td>42</td>\n",
       "      <td>Accomack, Virginia, US</td>\n",
       "    </tr>\n",
       "  </tbody>\n",
       "</table>\n",
       "</div>"
      ],
      "text/plain": [
       "  Country_Region     FIPS      Admin  Province_State          Last_Update  \\\n",
       "0             US  45001.0  Abbeville  South Carolina  2020-04-19 23:41:01   \n",
       "1             US  22001.0     Acadia       Louisiana  2020-04-19 23:41:01   \n",
       "2             US  51001.0   Accomack        Virginia  2020-04-19 23:41:01   \n",
       "\n",
       "         Lat      Long_  Confirmed  Deaths  Recovered  Active  \\\n",
       "0  34.223334 -82.461707         17       0          0      17   \n",
       "1  30.295065 -92.414197        110       7          0     103   \n",
       "2  37.767072 -75.632346         42       0          0      42   \n",
       "\n",
       "                    Combined_Key  \n",
       "0  Abbeville, South Carolina, US  \n",
       "1          Acadia, Louisiana, US  \n",
       "2         Accomack, Virginia, US  "
      ]
     },
     "execution_count": 22,
     "metadata": {},
     "output_type": "execute_result"
    }
   ],
   "source": [
    "#renomer des colonnes et index df.rename  (columns = (old_name:new_name),index = (old_name:new_name))\n",
    "df_covid.rename (columns={'Admin2':'Admin'} ,inplace=True)\n",
    "df_covid.head(3)\n"
   ]
  },
  {
   "cell_type": "code",
   "execution_count": 23,
   "metadata": {},
   "outputs": [
    {
     "data": {
      "text/plain": [
       "0        True\n",
       "1        True\n",
       "2        True\n",
       "3        True\n",
       "4        True\n",
       "        ...  \n",
       "3105    False\n",
       "3106    False\n",
       "3107    False\n",
       "3108    False\n",
       "3109    False\n",
       "Name: Country_Region, Length: 3110, dtype: bool"
      ]
     },
     "execution_count": 23,
     "metadata": {},
     "output_type": "execute_result"
    }
   ],
   "source": [
    "#acceder aux donnees \n",
    "df_covid ['Country_Region'] == 'US'"
   ]
  },
  {
   "cell_type": "code",
   "execution_count": 24,
   "metadata": {},
   "outputs": [
    {
     "data": {
      "text/plain": [
       "(3110, 12)"
      ]
     },
     "execution_count": 24,
     "metadata": {},
     "output_type": "execute_result"
    }
   ],
   "source": [
    "df_covid.shape"
   ]
  },
  {
   "cell_type": "code",
   "execution_count": 25,
   "metadata": {},
   "outputs": [
    {
     "data": {
      "text/plain": [
       "(2810, 12)"
      ]
     },
     "execution_count": 25,
     "metadata": {},
     "output_type": "execute_result"
    }
   ],
   "source": [
    "df_covid[df_covid ['Country_Region'] == 'US'].shape\n"
   ]
  },
  {
   "cell_type": "code",
   "execution_count": 26,
   "metadata": {},
   "outputs": [
    {
     "data": {
      "text/plain": [
       "90.35369774919614"
      ]
     },
     "execution_count": 26,
     "metadata": {},
     "output_type": "execute_result"
    }
   ],
   "source": [
    "((df_covid[df_covid ['Country_Region'] == 'US'].shape[0])/df_covid.shape[0])*100"
   ]
  },
  {
   "cell_type": "code",
   "execution_count": 27,
   "metadata": {},
   "outputs": [
    {
     "data": {
      "text/html": [
       "<div>\n",
       "<style scoped>\n",
       "    .dataframe tbody tr th:only-of-type {\n",
       "        vertical-align: middle;\n",
       "    }\n",
       "\n",
       "    .dataframe tbody tr th {\n",
       "        vertical-align: top;\n",
       "    }\n",
       "\n",
       "    .dataframe thead th {\n",
       "        text-align: right;\n",
       "    }\n",
       "</style>\n",
       "<table border=\"1\" class=\"dataframe\">\n",
       "  <thead>\n",
       "    <tr style=\"text-align: right;\">\n",
       "      <th></th>\n",
       "      <th>LM35</th>\n",
       "      <th>DHT22_T</th>\n",
       "      <th>DHT11_T</th>\n",
       "      <th>DHT22_H</th>\n",
       "      <th>DHT11_H</th>\n",
       "    </tr>\n",
       "  </thead>\n",
       "  <tbody>\n",
       "    <tr>\n",
       "      <th>0</th>\n",
       "      <td>22.37</td>\n",
       "      <td>24.8</td>\n",
       "      <td>24.0</td>\n",
       "      <td>74.8</td>\n",
       "      <td>71.0</td>\n",
       "    </tr>\n",
       "    <tr>\n",
       "      <th>1</th>\n",
       "      <td>22.37</td>\n",
       "      <td>24.8</td>\n",
       "      <td>24.0</td>\n",
       "      <td>74.8</td>\n",
       "      <td>71.0</td>\n",
       "    </tr>\n",
       "    <tr>\n",
       "      <th>2</th>\n",
       "      <td>22.37</td>\n",
       "      <td>24.8</td>\n",
       "      <td>24.0</td>\n",
       "      <td>74.7</td>\n",
       "      <td>71.0</td>\n",
       "    </tr>\n",
       "    <tr>\n",
       "      <th>3</th>\n",
       "      <td>21.40</td>\n",
       "      <td>24.8</td>\n",
       "      <td>24.0</td>\n",
       "      <td>74.7</td>\n",
       "      <td>71.0</td>\n",
       "    </tr>\n",
       "    <tr>\n",
       "      <th>4</th>\n",
       "      <td>21.89</td>\n",
       "      <td>24.8</td>\n",
       "      <td>24.0</td>\n",
       "      <td>74.8</td>\n",
       "      <td>71.0</td>\n",
       "    </tr>\n",
       "    <tr>\n",
       "      <th>...</th>\n",
       "      <td>...</td>\n",
       "      <td>...</td>\n",
       "      <td>...</td>\n",
       "      <td>...</td>\n",
       "      <td>...</td>\n",
       "    </tr>\n",
       "    <tr>\n",
       "      <th>1157</th>\n",
       "      <td>21.89</td>\n",
       "      <td>24.7</td>\n",
       "      <td>24.0</td>\n",
       "      <td>74.5</td>\n",
       "      <td>71.0</td>\n",
       "    </tr>\n",
       "    <tr>\n",
       "      <th>1158</th>\n",
       "      <td>22.86</td>\n",
       "      <td>24.7</td>\n",
       "      <td>24.0</td>\n",
       "      <td>74.5</td>\n",
       "      <td>71.0</td>\n",
       "    </tr>\n",
       "    <tr>\n",
       "      <th>1159</th>\n",
       "      <td>21.89</td>\n",
       "      <td>24.7</td>\n",
       "      <td>24.0</td>\n",
       "      <td>74.5</td>\n",
       "      <td>71.0</td>\n",
       "    </tr>\n",
       "    <tr>\n",
       "      <th>1160</th>\n",
       "      <td>22.86</td>\n",
       "      <td>24.7</td>\n",
       "      <td>24.0</td>\n",
       "      <td>74.4</td>\n",
       "      <td>71.0</td>\n",
       "    </tr>\n",
       "    <tr>\n",
       "      <th>1161</th>\n",
       "      <td>22.86</td>\n",
       "      <td>24.7</td>\n",
       "      <td>24.0</td>\n",
       "      <td>74.4</td>\n",
       "      <td>71.0</td>\n",
       "    </tr>\n",
       "  </tbody>\n",
       "</table>\n",
       "<p>1162 rows × 5 columns</p>\n",
       "</div>"
      ],
      "text/plain": [
       "       LM35  DHT22_T  DHT11_T  DHT22_H  DHT11_H\n",
       "0     22.37     24.8     24.0     74.8     71.0\n",
       "1     22.37     24.8     24.0     74.8     71.0\n",
       "2     22.37     24.8     24.0     74.7     71.0\n",
       "3     21.40     24.8     24.0     74.7     71.0\n",
       "4     21.89     24.8     24.0     74.8     71.0\n",
       "...     ...      ...      ...      ...      ...\n",
       "1157  21.89     24.7     24.0     74.5     71.0\n",
       "1158  22.86     24.7     24.0     74.5     71.0\n",
       "1159  21.89     24.7     24.0     74.5     71.0\n",
       "1160  22.86     24.7     24.0     74.4     71.0\n",
       "1161  22.86     24.7     24.0     74.4     71.0\n",
       "\n",
       "[1162 rows x 5 columns]"
      ]
     },
     "execution_count": 27,
     "metadata": {},
     "output_type": "execute_result"
    }
   ],
   "source": [
    "temperature = pd.read_csv (\"~/Bureau/lm35xdht11xdht22.csv\")\n",
    "temperature"
   ]
  }
 ],
 "metadata": {
  "kernelspec": {
   "display_name": "Python 3.8.10 64-bit",
   "language": "python",
   "name": "python3"
  },
  "language_info": {
   "codemirror_mode": {
    "name": "ipython",
    "version": 3
   },
   "file_extension": ".py",
   "mimetype": "text/x-python",
   "name": "python",
   "nbconvert_exporter": "python",
   "pygments_lexer": "ipython3",
   "version": "3.8.10"
  },
  "orig_nbformat": 4,
  "vscode": {
   "interpreter": {
    "hash": "916dbcbb3f70747c44a77c7bcd40155683ae19c65e1c03b4aa3499c5328201f1"
   }
  }
 },
 "nbformat": 4,
 "nbformat_minor": 2
}
