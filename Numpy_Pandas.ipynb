{
 "cells": [
  {
   "cell_type": "markdown",
   "metadata": {},
   "source": [
    "    ANALYSE DE DONNEE AVEC PANDAS & NUMPY"
   ]
  },
  {
   "cell_type": "code",
   "execution_count": 22,
   "metadata": {},
   "outputs": [],
   "source": [
    "import numpy as np\n"
   ]
  },
  {
   "cell_type": "code",
   "execution_count": 23,
   "metadata": {},
   "outputs": [
    {
     "data": {
      "text/plain": [
       "array([1, 2, 3])"
      ]
     },
     "execution_count": 23,
     "metadata": {},
     "output_type": "execute_result"
    }
   ],
   "source": [
    "np.array ([1,2,3]) #cree une array (ndarray)"
   ]
  },
  {
   "cell_type": "code",
   "execution_count": 24,
   "metadata": {},
   "outputs": [
    {
     "data": {
      "text/plain": [
       "array([0, 1, 2, 3, 4, 5, 6, 7, 8, 9])"
      ]
     },
     "execution_count": 24,
     "metadata": {},
     "output_type": "execute_result"
    }
   ],
   "source": [
    "np.arange (10)  #cree une array de 0 a 10"
   ]
  },
  {
   "cell_type": "code",
   "execution_count": 25,
   "metadata": {},
   "outputs": [
    {
     "data": {
      "text/plain": [
       "array([[0, 1],\n",
       "       [2, 3],\n",
       "       [4, 5],\n",
       "       [6, 7],\n",
       "       [8, 9]])"
      ]
     },
     "execution_count": 25,
     "metadata": {},
     "output_type": "execute_result"
    }
   ],
   "source": [
    " # cree une array de 10 element puis le transforme \n",
    " #en matrice de 5 ligne et 2 colonnes\n",
    "np.arange (10).reshape (5,2)"
   ]
  },
  {
   "cell_type": "code",
   "execution_count": 26,
   "metadata": {},
   "outputs": [
    {
     "data": {
      "text/plain": [
       "array([[0., 0., 0.],\n",
       "       [0., 0., 0.],\n",
       "       [0., 0., 0.]])"
      ]
     },
     "execution_count": 26,
     "metadata": {},
     "output_type": "execute_result"
    }
   ],
   "source": [
    "#cree une matrice rempli de zero\n",
    "np.zeros ((3,3))\n",
    "\n",
    "#cree une matrice rempli de un : np.ones ((i,j))\n",
    "#cree une matrice d'identite : np.eye ((i,j))"
   ]
  },
  {
   "cell_type": "code",
   "execution_count": 27,
   "metadata": {},
   "outputs": [
    {
     "data": {
      "text/plain": [
       "array([0.63539294, 0.13429853, 0.20491097, 0.28076808, 0.23789705,\n",
       "       0.20318224, 0.89028765, 0.59511056, 0.92254549, 0.40372385])"
      ]
     },
     "execution_count": 27,
     "metadata": {},
     "output_type": "execute_result"
    }
   ],
   "source": [
    "#cree une array de dimension 1 aleatoire de dimension \n",
    "# 1 aleatoire de n element\n",
    "\n",
    "np.random.rand (10)"
   ]
  },
  {
   "cell_type": "code",
   "execution_count": 28,
   "metadata": {},
   "outputs": [
    {
     "data": {
      "text/plain": [
       "array([[0.20207839, 0.46343251],\n",
       "       [0.94407089, 0.00881585],\n",
       "       [0.43806825, 0.78737305]])"
      ]
     },
     "execution_count": 28,
     "metadata": {},
     "output_type": "execute_result"
    }
   ],
   "source": [
    "#cree une array de dimension 1 aleatoire de dimension \n",
    "# i,j random\n",
    "np.random.random (size = (3,2))"
   ]
  },
  {
   "cell_type": "code",
   "execution_count": 29,
   "metadata": {},
   "outputs": [
    {
     "name": "stdout",
     "output_type": "stream",
     "text": [
      "[0.72066161 0.15833179 0.52685362 0.35650892 0.50167413]\n",
      "<class 'numpy.ndarray'>\n",
      "\n",
      "[[0.06628388 0.61411021 0.54234941 0.14207896]\n",
      " [0.94281352 0.5115556  0.53257687 0.65165985]\n",
      " [0.85709831 0.06482755 0.52292464 0.63661129]\n",
      " [0.07589293 0.46288343 0.92757565 0.84212178]]\n",
      "<class 'numpy.ndarray'>\n",
      "\n",
      "0.06482754709684924\n",
      "[0.5115556  0.06482755]\n",
      "[0.85709831 0.06482755]\n",
      "[0.06628388 0.94281352 0.85709831 0.07589293]\n",
      "[0.06628388 0.61411021 0.54234941 0.14207896]\n"
     ]
    }
   ],
   "source": [
    "#indexing\n",
    "\n",
    "myarray = np.random.rand (5)\n",
    "print (myarray)\n",
    "print (type (myarray))\n",
    "\n",
    "print ()\n",
    "\n",
    "myarray_multidim = np.random.rand (16).reshape (4,4)\n",
    "print (myarray_multidim )\n",
    "print (type (myarray_multidim))\n",
    "\n",
    "print ()\n",
    "\n",
    "print (myarray_multidim [2,1])\n",
    "print (myarray_multidim [1:3,1]) #affiche le 2er et 3e ligne de la 2e colone\n",
    "print (myarray_multidim [2,0:2]) #affiche le 1er et 2e colonne de la 3e ligne\n",
    "print (myarray_multidim [:,0]) #affiche la 1er colonne\n",
    "print (myarray_multidim [0,:]) #affiche la 1er ligne\n"
   ]
  },
  {
   "cell_type": "code",
   "execution_count": 30,
   "metadata": {},
   "outputs": [
    {
     "name": "stdout",
     "output_type": "stream",
     "text": [
      "(4, 4)\n",
      "2\n",
      "16\n"
     ]
    }
   ],
   "source": [
    "#np.shape donee la dimension i,j du matrice\n",
    "#np.ndim  donnee la dimension 1d,2d,3d,...\n",
    "#np.size  donnee la taille \n",
    "print(myarray_multidim.shape) \n",
    "print(myarray_multidim.ndim) \n",
    "print(myarray_multidim.size) "
   ]
  },
  {
   "cell_type": "code",
   "execution_count": 31,
   "metadata": {},
   "outputs": [
    {
     "name": "stdout",
     "output_type": "stream",
     "text": [
      "[[0 1]\n",
      " [2 3]\n",
      " [4 5]\n",
      " [6 7]\n",
      " [8 9]]\n",
      "[[ 1.          0.54030231]\n",
      " [-0.41614684 -0.9899925 ]\n",
      " [-0.65364362  0.28366219]\n",
      " [ 0.96017029  0.75390225]\n",
      " [-0.14550003 -0.91113026]]\n",
      "[[1.00000000e+00 2.71828183e+00]\n",
      " [7.38905610e+00 2.00855369e+01]\n",
      " [5.45981500e+01 1.48413159e+02]\n",
      " [4.03428793e+02 1.09663316e+03]\n",
      " [2.98095799e+03 8.10308393e+03]]\n"
     ]
    }
   ],
   "source": [
    "#np.cos,np.log,np.exp,np.sqrt,...\n",
    "#applique une calcule mathematique sur \n",
    "#toute la matrice\n",
    "myarray = np.arange(10).reshape (5,2) \n",
    "print (myarray)\n",
    "print (np.cos(myarray))\n",
    "print (np.exp (myarray))"
   ]
  },
  {
   "cell_type": "code",
   "execution_count": 32,
   "metadata": {},
   "outputs": [
    {
     "name": "stdout",
     "output_type": "stream",
     "text": [
      "[[0 1]\n",
      " [2 3]\n",
      " [4 5]\n",
      " [6 7]\n",
      " [8 9]]\n",
      "0\n",
      "9\n",
      "4.5\n",
      "45\n"
     ]
    }
   ],
   "source": [
    "#fontions np.sum,np.min,np.max,np.mean\n",
    "print(myarray)\n",
    "print (myarray.min())\n",
    "print (myarray.max())\n",
    "print (myarray.mean())\n",
    "print (myarray.sum())"
   ]
  },
  {
   "cell_type": "markdown",
   "metadata": {},
   "source": [
    "    calcule matricielle"
   ]
  },
  {
   "cell_type": "code",
   "execution_count": 35,
   "metadata": {},
   "outputs": [
    {
     "name": "stdout",
     "output_type": "stream",
     "text": [
      "[[ 0  1  2  3]\n",
      " [ 4  5  6  7]\n",
      " [ 8  9 10 11]\n",
      " [12 13 14 15]]\n",
      "[[0.85438183 0.47466019 0.78244062 0.13175945]\n",
      " [0.41360638 0.05638469 0.29264284 0.46344646]\n",
      " [0.6270106  0.38422797 0.72429935 0.60293034]\n",
      " [0.37083984 0.38083092 0.09945936 0.77744217]]\n",
      "\n",
      "[[ 0.          0.47466019  1.56488124  0.39527834]\n",
      " [ 1.65442551  0.28192343  1.75585704  3.24412522]\n",
      " [ 5.0160848   3.45805174  7.24299345  6.63223378]\n",
      " [ 4.45007813  4.95080197  1.392431   11.66163262]]\n"
     ]
    }
   ],
   "source": [
    "#produit element par element\n",
    "A = np.arange(16).reshape (4,4)\n",
    "print (A)\n",
    "B = np.random.rand(16).reshape (4,4)\n",
    "print (B)\n",
    "print ()\n",
    "print (A*B)"
   ]
  },
  {
   "cell_type": "code",
   "execution_count": 36,
   "metadata": {},
   "outputs": [
    {
     "name": "stdout",
     "output_type": "stream",
     "text": [
      "[[ 2.78014711  1.96733339  2.0396196   4.00163367]\n",
      " [11.84350172  7.15174846  9.63498826 11.90394737]\n",
      " [20.90685633 12.33616354 17.23035692 19.80626106]\n",
      " [29.97021093 17.52057861 24.82572558 27.70857476]]\n",
      "\n",
      "[[ 2.78014711  1.96733339  2.0396196   4.00163367]\n",
      " [11.84350172  7.15174846  9.63498826 11.90394737]\n",
      " [20.90685633 12.33616354 17.23035692 19.80626106]\n",
      " [29.97021093 17.52057861 24.82572558 27.70857476]]\n"
     ]
    }
   ],
   "source": [
    "#produit matricil ou array1.dot (array2)\n",
    "print (A@B)\n",
    "print ()\n",
    "print (A.dot (B))"
   ]
  },
  {
   "cell_type": "code",
   "execution_count": 38,
   "metadata": {},
   "outputs": [
    {
     "name": "stdout",
     "output_type": "stream",
     "text": [
      "[[ 0  1  2]\n",
      " [ 3  4  5]\n",
      " [ 6  7  8]\n",
      " [ 9 10 11]]\n",
      "\n",
      "[[ 0  3  6  9]\n",
      " [ 1  4  7 10]\n",
      " [ 2  5  8 11]]\n",
      "\n",
      "[[ 0  1  2]\n",
      " [ 3  4  5]\n",
      " [ 6  7  8]\n",
      " [ 9 10 11]]\n"
     ]
    }
   ],
   "source": [
    "#transposee d'une matrice\n",
    "C = np.arange (12).reshape (4,3)\n",
    "print (C)\n",
    "print ()\n",
    "C = C.T\n",
    "print (C)\n",
    "print ()\n",
    "print (C.transpose ())"
   ]
  },
  {
   "cell_type": "code",
   "execution_count": 40,
   "metadata": {},
   "outputs": [
    {
     "data": {
      "text/plain": [
       "array([[ 0.54227128,  0.16563888,  0.9879427 , -0.5069242 ],\n",
       "       [ 1.86865615,  0.97780624, -1.05042892, -0.47966072],\n",
       "       [-1.52725766,  1.42006754, -1.46530707,  0.68874729],\n",
       "       [-0.4910029 , -2.26692015,  2.03889524,  0.98542983]])"
      ]
     },
     "execution_count": 40,
     "metadata": {},
     "output_type": "execute_result"
    }
   ],
   "source": [
    "#matrice inversible\n",
    "#np.linalg.inv (matrice) matrice carre\n",
    "np.linalg.inv (np.random.rand (16).reshape(4,4))"
   ]
  },
  {
   "cell_type": "markdown",
   "metadata": {},
   "source": [
    "        Pandas"
   ]
  },
  {
   "cell_type": "code",
   "execution_count": 42,
   "metadata": {},
   "outputs": [
    {
     "data": {
      "text/plain": [
       "0    1\n",
       "1    2\n",
       "2    3\n",
       "dtype: int64"
      ]
     },
     "execution_count": 42,
     "metadata": {},
     "output_type": "execute_result"
    }
   ],
   "source": [
    "import pandas as pd\n",
    "\n",
    "pd.Series (np.array([1,2,3]))\n"
   ]
  },
  {
   "cell_type": "code",
   "execution_count": 46,
   "metadata": {},
   "outputs": [
    {
     "data": {
      "text/html": [
       "<div>\n",
       "<style scoped>\n",
       "    .dataframe tbody tr th:only-of-type {\n",
       "        vertical-align: middle;\n",
       "    }\n",
       "\n",
       "    .dataframe tbody tr th {\n",
       "        vertical-align: top;\n",
       "    }\n",
       "\n",
       "    .dataframe thead th {\n",
       "        text-align: right;\n",
       "    }\n",
       "</style>\n",
       "<table border=\"1\" class=\"dataframe\">\n",
       "  <thead>\n",
       "    <tr style=\"text-align: right;\">\n",
       "      <th></th>\n",
       "      <th>col1</th>\n",
       "      <th>col2</th>\n",
       "    </tr>\n",
       "  </thead>\n",
       "  <tbody>\n",
       "    <tr>\n",
       "      <th>0</th>\n",
       "      <td>1</td>\n",
       "      <td>5</td>\n",
       "    </tr>\n",
       "    <tr>\n",
       "      <th>1</th>\n",
       "      <td>2</td>\n",
       "      <td>4</td>\n",
       "    </tr>\n",
       "    <tr>\n",
       "      <th>2</th>\n",
       "      <td>3</td>\n",
       "      <td>3</td>\n",
       "    </tr>\n",
       "  </tbody>\n",
       "</table>\n",
       "</div>"
      ],
      "text/plain": [
       "   col1  col2\n",
       "0     1     5\n",
       "1     2     4\n",
       "2     3     3"
      ]
     },
     "execution_count": 46,
     "metadata": {},
     "output_type": "execute_result"
    }
   ],
   "source": [
    "pd.DataFrame ({\"col1\":[1,2,3],\n",
    "              \"col2\":[5,4,3]})"
   ]
  },
  {
   "cell_type": "code",
   "execution_count": 50,
   "metadata": {},
   "outputs": [
    {
     "data": {
      "text/html": [
       "<div>\n",
       "<style scoped>\n",
       "    .dataframe tbody tr th:only-of-type {\n",
       "        vertical-align: middle;\n",
       "    }\n",
       "\n",
       "    .dataframe tbody tr th {\n",
       "        vertical-align: top;\n",
       "    }\n",
       "\n",
       "    .dataframe thead th {\n",
       "        text-align: right;\n",
       "    }\n",
       "</style>\n",
       "<table border=\"1\" class=\"dataframe\">\n",
       "  <thead>\n",
       "    <tr style=\"text-align: right;\">\n",
       "      <th></th>\n",
       "      <th>P</th>\n",
       "      <th>ans</th>\n",
       "    </tr>\n",
       "  </thead>\n",
       "  <tbody>\n",
       "    <tr>\n",
       "      <th>0</th>\n",
       "      <td>Profil</td>\n",
       "      <td>Eau</td>\n",
       "    </tr>\n",
       "    <tr>\n",
       "      <th>1</th>\n",
       "      <td>Papa</td>\n",
       "      <td>clavier</td>\n",
       "    </tr>\n",
       "  </tbody>\n",
       "</table>\n",
       "</div>"
      ],
      "text/plain": [
       "        P      ans\n",
       "0  Profil      Eau\n",
       "1    Papa  clavier"
      ]
     },
     "execution_count": 50,
     "metadata": {},
     "output_type": "execute_result"
    }
   ],
   "source": [
    "\n",
    "pd.DataFrame ({'P':['Profil','Papa'],\n",
    "            'ans': ['Eau','clavier']})"
   ]
  }
 ],
 "metadata": {
  "kernelspec": {
   "display_name": "Python 3.8.10 64-bit",
   "language": "python",
   "name": "python3"
  },
  "language_info": {
   "codemirror_mode": {
    "name": "ipython",
    "version": 3
   },
   "file_extension": ".py",
   "mimetype": "text/x-python",
   "name": "python",
   "nbconvert_exporter": "python",
   "pygments_lexer": "ipython3",
   "version": "3.8.10"
  },
  "orig_nbformat": 4,
  "vscode": {
   "interpreter": {
    "hash": "916dbcbb3f70747c44a77c7bcd40155683ae19c65e1c03b4aa3499c5328201f1"
   }
  }
 },
 "nbformat": 4,
 "nbformat_minor": 2
}
