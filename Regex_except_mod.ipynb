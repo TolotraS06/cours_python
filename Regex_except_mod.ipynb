{
 "cells": [
  {
   "cell_type": "markdown",
   "metadata": {
    "tags": []
   },
   "source": [
    "    Regex,Exceptions,Module"
   ]
  },
  {
   "cell_type": "markdown",
   "metadata": {},
   "source": [
    "    Expressions reguliers"
   ]
  },
  {
   "cell_type": "code",
   "execution_count": 7,
   "metadata": {},
   "outputs": [
    {
     "name": "stdout",
     "output_type": "stream",
     "text": [
      "<re.Match object; span=(8, 12), match='tous'>\n",
      "None\n"
     ]
    }
   ],
   "source": [
    "import re\n",
    "\n",
    "text = \"bonjour tous le monde,comment-aller-vous?Ca va TOUS \"\n",
    "print(re.search('tous',text))\n",
    "print(re.search('une',text))     \n",
    "      "
   ]
  },
  {
   "cell_type": "code",
   "execution_count": 8,
   "metadata": {},
   "outputs": [
    {
     "name": "stdout",
     "output_type": "stream",
     "text": [
      "<re.Match object; span=(8, 12), match='tous'>\n",
      "<re.Match object; span=(47, 51), match='TOUS'>\n",
      "<re.Match object; span=(0, 7), match='bonjour'>\n"
     ]
    }
   ],
   "source": [
    "myregex = re.compile ('tous') #compile une expressions reguliere\n",
    "print(myregex.search(text))\n",
    "myregex = re.compile ('TOUS')\n",
    "print (myregex.search (text))\n",
    "print(re.match('bonjour',text)) #recheche en fin de ligne\n"
   ]
  },
  {
   "cell_type": "code",
   "execution_count": 9,
   "metadata": {},
   "outputs": [
    {
     "name": "stdout",
     "output_type": "stream",
     "text": [
      "['constructeur']\n",
      "1\n"
     ]
    }
   ],
   "source": [
    "text2 = \"Alors, comment savoir à quelle adresse appartient un appareil, d'autant plus que dans la plupart des cas, le constructeur ne vous le dira pas ?\"\n",
    "find_ = re.findall ('constructeur',text2)\n",
    "print (find_)\n",
    "print (len (find_))\n"
   ]
  },
  {
   "cell_type": "code",
   "execution_count": 10,
   "metadata": {},
   "outputs": [
    {
     "data": {
      "text/plain": [
       "['bonjour tous le monde,comment-aller-vous?', 'a va ', '', '', '', ' ']"
      ]
     },
     "execution_count": 10,
     "metadata": {},
     "output_type": "execute_result"
    }
   ],
   "source": [
    "re.split('[A-Z]',text) #affiche les texte \n",
    "#[A-Z] toute les lettre majuscule\n",
    "#re.split ('[A-Z]',text) #afficher les texte qui ne sont pas en majuscule"
   ]
  },
  {
   "cell_type": "markdown",
   "metadata": {},
   "source": [
    "    Exceptions\n",
    "    "
   ]
  },
  {
   "cell_type": "code",
   "execution_count": 18,
   "metadata": {},
   "outputs": [
    {
     "name": "stdout",
     "output_type": "stream",
     "text": [
      "1\n"
     ]
    }
   ],
   "source": [
    "b = 1\n",
    "c = 'anis' \n",
    "\n",
    "try :\n",
    "    a = b/c\n",
    "except ZeroDivisionError :\n",
    "    a = b*c\n",
    "except TypeError :\n",
    "    a = b\n",
    "    \n",
    "print (a)"
   ]
  },
  {
   "cell_type": "code",
   "execution_count": 3,
   "metadata": {},
   "outputs": [
    {
     "name": "stdout",
     "output_type": "stream",
     "text": [
      "c est inferieur  a 5\n"
     ]
    },
    {
     "ename": "ValueError",
     "evalue": "",
     "output_type": "error",
     "traceback": [
      "\u001b[0;31m---------------------------------------------------------------------------\u001b[0m",
      "\u001b[0;31mValueError\u001b[0m                                Traceback (most recent call last)",
      "\u001b[0;32m<ipython-input-3-4da73414c653>\u001b[0m in \u001b[0;36m<module>\u001b[0;34m\u001b[0m\n\u001b[1;32m      5\u001b[0m \u001b[0;32mif\u001b[0m \u001b[0mc\u001b[0m \u001b[0;34m<\u001b[0m \u001b[0;36m5\u001b[0m \u001b[0;34m:\u001b[0m\u001b[0;34m\u001b[0m\u001b[0;34m\u001b[0m\u001b[0m\n\u001b[1;32m      6\u001b[0m     \u001b[0mprint\u001b[0m \u001b[0;34m(\u001b[0m\u001b[0;34m\"c est inferieur  a 5\"\u001b[0m\u001b[0;34m)\u001b[0m\u001b[0;34m\u001b[0m\u001b[0;34m\u001b[0m\u001b[0m\n\u001b[0;32m----> 7\u001b[0;31m     \u001b[0;32mraise\u001b[0m \u001b[0mValueError\u001b[0m\u001b[0;34m\u001b[0m\u001b[0;34m\u001b[0m\u001b[0m\n\u001b[0m\u001b[1;32m      8\u001b[0m \u001b[0;32melse\u001b[0m\u001b[0;34m:\u001b[0m\u001b[0;34m\u001b[0m\u001b[0;34m\u001b[0m\u001b[0m\n\u001b[1;32m      9\u001b[0m     \u001b[0ma\u001b[0m \u001b[0;34m=\u001b[0m  \u001b[0mb\u001b[0m \u001b[0;34m*\u001b[0m \u001b[0mc\u001b[0m\u001b[0;34m\u001b[0m\u001b[0;34m\u001b[0m\u001b[0m\n",
      "\u001b[0;31mValueError\u001b[0m: "
     ]
    }
   ],
   "source": [
    "#if .....raise Error\n",
    "b = 5\n",
    "c = 3\n",
    "\n",
    "if c < 5 :\n",
    "    print (\"c est inferieur  a 5\")\n",
    "    raise ValueError\n",
    "else:\n",
    "    a =  b * c\n",
    "    \n",
    "print (a)"
   ]
  },
  {
   "cell_type": "markdown",
   "metadata": {},
   "source": [
    "    decorateur"
   ]
  },
  {
   "cell_type": "code",
   "execution_count": 14,
   "metadata": {},
   "outputs": [
    {
     "name": "stdout",
     "output_type": "stream",
     "text": [
      "i m here\n",
      "hi\n"
     ]
    }
   ],
   "source": [
    "def f (f1):\n",
    "    def myfunc ():\n",
    "       print (\"i m here\")\n",
    "       f1 ()\n",
    "    return myfunc\n",
    "\n",
    "@f \n",
    "def f1 ():\n",
    "    print (\"hi\")\n",
    "    \n",
    "f1()"
   ]
  },
  {
   "cell_type": "code",
   "execution_count": 21,
   "metadata": {},
   "outputs": [
    {
     "name": "stdout",
     "output_type": "stream",
     "text": [
      "addition 4: 10\n",
      "addition 10: 254\n"
     ]
    }
   ],
   "source": [
    "#*args donne un nombre d'argument variable\n",
    "\n",
    "def add (*args) : \n",
    "    addition = 0\n",
    "    for arg in args :\n",
    "        addition = addition + arg\n",
    "        \n",
    "    return addition\n",
    "\n",
    "print (f\"addition 4: {add (1,2,3,4)}\")\n",
    "print (f\"addition 10: {add (1,2,3,4,35,6,32,56,23,92)}\")"
   ]
  },
  {
   "cell_type": "code",
   "execution_count": 22,
   "metadata": {},
   "outputs": [
    {
     "data": {
      "text/plain": [
       "10"
      ]
     },
     "execution_count": 22,
     "metadata": {},
     "output_type": "execute_result"
    }
   ],
   "source": [
    "#**kwargs passer des arguments d'un dictionnaire, ou mot cle\n",
    "\n",
    "def add1 (**kwargs):\n",
    "    addition1 = 0\n",
    "    for key,value in kwargs.items ():\n",
    "        if key == 'arg1':\n",
    "            continue\n",
    "        addition1 = addition1 + value\n",
    "    return addition1\n",
    "\n",
    "dict_args = {\n",
    "    'args1':1,\n",
    "    'args2':2,\n",
    "    'args3':3,\n",
    "    'args4':4\n",
    "}\n",
    "\n",
    "add1 (**dict_args)\n",
    "\n"
   ]
  },
  {
   "cell_type": "code",
   "execution_count": 38,
   "metadata": {},
   "outputs": [
    {
     "name": "stdout",
     "output_type": "stream",
     "text": [
      "6\n"
     ]
    }
   ],
   "source": [
    "#lambda *args  definir une function lambda\n",
    "add2 = lambda arg1,arg2,arg3 : arg1 + arg2 + arg3\n",
    "print (add2 (1,2,3))"
   ]
  },
  {
   "cell_type": "code",
   "execution_count": 27,
   "metadata": {},
   "outputs": [
    {
     "name": "stdout",
     "output_type": "stream",
     "text": [
      "CPU times: user 4 µs, sys: 1e+03 ns, total: 5 µs\n",
      "Wall time: 8.34 µs\n"
     ]
    }
   ],
   "source": [
    "%time\n",
    "#list comprehension\n",
    "a = []\n",
    "for i in range (10):\n",
    "    a.append (10)"
   ]
  },
  {
   "cell_type": "code",
   "execution_count": 36,
   "metadata": {},
   "outputs": [
    {
     "name": "stdout",
     "output_type": "stream",
     "text": [
      "CPU times: user 4 µs, sys: 0 ns, total: 4 µs\n",
      "Wall time: 9.3 µs\n"
     ]
    }
   ],
   "source": [
    "%time\n",
    "#list comprehension\n",
    "b =  [ i for i in range (10)]"
   ]
  }
 ],
 "metadata": {
  "kernelspec": {
   "display_name": "Python 3.8.10 64-bit",
   "language": "python",
   "name": "python3"
  },
  "language_info": {
   "codemirror_mode": {
    "name": "ipython",
    "version": 3
   },
   "file_extension": ".py",
   "mimetype": "text/x-python",
   "name": "python",
   "nbconvert_exporter": "python",
   "pygments_lexer": "ipython3",
   "version": "3.8.10"
  },
  "orig_nbformat": 4,
  "vscode": {
   "interpreter": {
    "hash": "916dbcbb3f70747c44a77c7bcd40155683ae19c65e1c03b4aa3499c5328201f1"
   }
  }
 },
 "nbformat": 4,
 "nbformat_minor": 2
}
