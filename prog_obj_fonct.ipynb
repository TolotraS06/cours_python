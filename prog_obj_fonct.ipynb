{
 "cells": [
  {
   "cell_type": "markdown",
   "metadata": {},
   "source": [
    "            Programmation objet et Fonctionnelle"
   ]
  },
  {
   "cell_type": "markdown",
   "metadata": {},
   "source": [
    "    Porte d'un variable"
   ]
  },
  {
   "cell_type": "code",
   "execution_count": 1,
   "metadata": {},
   "outputs": [
    {
     "name": "stdout",
     "output_type": "stream",
     "text": [
      "inside locale fct =  local exmple\n",
      "local exemple= exemple\n",
      "Non local exemple= non local exemple\n",
      "global exemple= non local exemple\n",
      "main exmple= global exemple\n"
     ]
    }
   ],
   "source": [
    "def exemple_porte_variable ():\n",
    "    def define_local ():\n",
    "        exemple = 'local exmple'\n",
    "        print (\"inside locale fct = \",exemple)\n",
    "    \n",
    "    def define_nonlocal ():\n",
    "        nonlocal exemple\n",
    "        exemple = 'non local exemple'\n",
    "        \n",
    "    def define_global ():\n",
    "        global exemple\n",
    "        exemple = 'global exemple'\n",
    "        \n",
    "    exemple = 'exemple'\n",
    "    define_local ()\n",
    "    print (\"local exemple=\",exemple)\n",
    "    define_nonlocal ()\n",
    "    print (\"Non local exemple=\",exemple)\n",
    "    define_global ()\n",
    "    print (\"global exemple=\",exemple)\n",
    "    \n",
    "exemple_porte_variable ()\n",
    "print ('main exmple=',exemple)"
   ]
  },
  {
   "cell_type": "markdown",
   "metadata": {},
   "source": [
    "    Programmation Fonctionnelle"
   ]
  },
  {
   "cell_type": "code",
   "execution_count": 2,
   "metadata": {},
   "outputs": [
    {
     "name": "stdout",
     "output_type": "stream",
     "text": [
      "the most little planet is Mercure of diameter 1391 Km\n"
     ]
    }
   ],
   "source": [
    "planet_list = [\n",
    "               'Mercure','venus','terre',\n",
    "               'mars','jupiter','saturne',\n",
    "               'uranus','neptune','pluton'\n",
    "               ]\n",
    "\n",
    "diametre_planet_list = [\n",
    "                        1391, 4880, 12756,\n",
    "                        12756,6805,142984,\n",
    "                        120536,51312,49922,2300\n",
    "                        ]\n",
    "\n",
    "distance_soleil_planet = [\n",
    "                          '58','108','150',\n",
    "                          '227','778','457',\n",
    "                           '870','500','900'\n",
    "                          ]\n",
    "\n",
    "dictionnaire_list = {\n",
    "     'mercure':{\n",
    "         'diametre':'1391',\n",
    "          'distance':'58'\n",
    "     },\n",
    "     'venus':{\n",
    "         'diametre':'4880',\n",
    "          'distance':'108'\n",
    "     },\n",
    "     'terre':{\n",
    "         'diametre':'12104',\n",
    "         'distance':'150'\n",
    "     }\n",
    "}\n",
    "\n",
    "def find_littlest_planet (pla_list,dia_list):\n",
    "    littlest_planet = 999999999999999999;\n",
    "    \n",
    "    for i,diametre_ in enumerate(dia_list) :\n",
    "       # print (i,diametre_)\n",
    "        if diametre_ < littlest_planet:\n",
    "            littlest_planet = diametre_\n",
    "            index_listtlest_planet = i\n",
    "            \n",
    "    return planet_list[index_listtlest_planet],littlest_planet\n",
    "\n",
    "name, diameter = find_littlest_planet (planet_list,diametre_planet_list)\n",
    "print (f'the most little planet is {name} of diameter {diameter} Km')\n",
    "\n"
   ]
  },
  {
   "cell_type": "markdown",
   "metadata": {},
   "source": [
    "            Programmation Objet"
   ]
  },
  {
   "cell_type": "code",
   "execution_count": 3,
   "metadata": {},
   "outputs": [],
   "source": [
    "class  Person ():\n",
    "    def __init__ (self, hair_color, eye_color, height, weight):\n",
    "        self.hair_color = hair_color\n",
    "        self.eye_color = eye_color\n",
    "        self.height = height\n",
    "        self.weight = weight\n",
    "        \n",
    "    def getIMC (self):\n",
    "        return self.weight / (self.height*self.height)\n",
    "     \n",
    "     "
   ]
  },
  {
   "cell_type": "code",
   "execution_count": 4,
   "metadata": {},
   "outputs": [],
   "source": [
    "KB9 = Person (hair_color='noir', eye_color='noir', height= 1.81, weight= 81)"
   ]
  },
  {
   "cell_type": "code",
   "execution_count": 5,
   "metadata": {},
   "outputs": [
    {
     "data": {
      "text/plain": [
       "__main__.Person"
      ]
     },
     "execution_count": 5,
     "metadata": {},
     "output_type": "execute_result"
    }
   ],
   "source": [
    "type (KB9)"
   ]
  },
  {
   "cell_type": "code",
   "execution_count": 6,
   "metadata": {},
   "outputs": [
    {
     "name": "stdout",
     "output_type": "stream",
     "text": [
      "24.724520008546747\n"
     ]
    }
   ],
   "source": [
    "IMC_kb9 = KB9.getIMC ()\n",
    "print (IMC_kb9)"
   ]
  }
 ],
 "metadata": {
  "kernelspec": {
   "display_name": "Python 3.8.10 64-bit",
   "language": "python",
   "name": "python3"
  },
  "language_info": {
   "codemirror_mode": {
    "name": "ipython",
    "version": 3
   },
   "file_extension": ".py",
   "mimetype": "text/x-python",
   "name": "python",
   "nbconvert_exporter": "python",
   "pygments_lexer": "ipython3",
   "version": "3.8.10"
  },
  "orig_nbformat": 4,
  "vscode": {
   "interpreter": {
    "hash": "916dbcbb3f70747c44a77c7bcd40155683ae19c65e1c03b4aa3499c5328201f1"
   }
  }
 },
 "nbformat": 4,
 "nbformat_minor": 2
}
