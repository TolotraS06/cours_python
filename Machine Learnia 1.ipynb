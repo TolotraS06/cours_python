{
 "cells": [
  {
   "cell_type": "markdown",
   "id": "b1ff0735",
   "metadata": {},
   "source": [
    "## Machine Learnia"
   ]
  },
  {
   "cell_type": "code",
   "execution_count": 13,
   "id": "a8a8a220",
   "metadata": {},
   "outputs": [],
   "source": [
    "import numpy as np\n",
    "  "
   ]
  },
  {
   "cell_type": "code",
   "execution_count": 6,
   "id": "950af26e",
   "metadata": {},
   "outputs": [
    {
     "data": {
      "text/plain": [
       "array([1, 2, 3])"
      ]
     },
     "execution_count": 6,
     "metadata": {},
     "output_type": "execute_result"
    }
   ],
   "source": [
    "A = np.array ([1,2,3]) #creation d'un Ndarray\n",
    "A"
   ]
  },
  {
   "cell_type": "code",
   "execution_count": 9,
   "id": "0e984950",
   "metadata": {},
   "outputs": [
    {
     "data": {
      "text/plain": [
       "(3,)"
      ]
     },
     "execution_count": 9,
     "metadata": {},
     "output_type": "execute_result"
    }
   ],
   "source": [
    "A.shape # taille du tableau "
   ]
  },
  {
   "cell_type": "code",
   "execution_count": 10,
   "id": "760d9044",
   "metadata": {},
   "outputs": [
    {
     "data": {
      "text/plain": [
       "array([[0., 0.],\n",
       "       [0., 0.],\n",
       "       [0., 0.]])"
      ]
     },
     "execution_count": 10,
     "metadata": {},
     "output_type": "execute_result"
    }
   ],
   "source": [
    "B = np.zeros ((3,2)) #cree une tableau rempli de zeros\n",
    "#np.ones cree une tableau rempli de un\n",
    "# np.full ((size),number) cree une tableau rempli de number\n",
    "B"
   ]
  },
  {
   "cell_type": "code",
   "execution_count": 12,
   "id": "e9ddcc43",
   "metadata": {},
   "outputs": [
    {
     "data": {
      "text/plain": [
       "array([[-0.29619396,  0.31670415,  0.90171522, -1.11329338],\n",
       "       [ 0.33598957,  0.00346408, -0.37585938, -1.09346172],\n",
       "       [ 0.12604932, -0.2706075 , -0.84693914,  0.33148308]])"
      ]
     },
     "execution_count": 12,
     "metadata": {},
     "output_type": "execute_result"
    }
   ],
   "source": [
    "C = np.random.randn (3,4)# initialise le tableau avec des valeur aleatoire\n",
    "C"
   ]
  },
  {
   "cell_type": "code",
   "execution_count": 14,
   "id": "5c4220b0",
   "metadata": {},
   "outputs": [
    {
     "data": {
      "text/plain": [
       "array([[ 1.3315865 ,  0.71527897],\n",
       "       [-1.54540029, -0.00838385],\n",
       "       [ 0.62133597, -0.72008556]])"
      ]
     },
     "execution_count": 14,
     "metadata": {},
     "output_type": "execute_result"
    }
   ],
   "source": [
    "np.random.seed (10) #fixe le generateur aleatoire pour produire le meme resultat\n",
    "D  = np.random.randn (3,2)\n",
    "D"
   ]
  },
  {
   "cell_type": "code",
   "execution_count": 54,
   "id": "adf28714",
   "metadata": {},
   "outputs": [],
   "source": [
    "z = np.ones((2,3))\n",
    "y = np.zeros ((2,3))"
   ]
  },
  {
   "cell_type": "code",
   "execution_count": 18,
   "id": "effe5b23",
   "metadata": {},
   "outputs": [
    {
     "data": {
      "text/plain": [
       "array([ 0.        ,  0.52631579,  1.05263158,  1.57894737,  2.10526316,\n",
       "        2.63157895,  3.15789474,  3.68421053,  4.21052632,  4.73684211,\n",
       "        5.26315789,  5.78947368,  6.31578947,  6.84210526,  7.36842105,\n",
       "        7.89473684,  8.42105263,  8.94736842,  9.47368421, 10.        ])"
      ]
     },
     "execution_count": 18,
     "metadata": {},
     "output_type": "execute_result"
    }
   ],
   "source": [
    "np.linspace (0,10,20) #cree une tableau a une dimension \n"
   ]
  },
  {
   "cell_type": "code",
   "execution_count": 21,
   "id": "ab3edfc4",
   "metadata": {},
   "outputs": [
    {
     "data": {
      "text/plain": [
       "array([0, 2, 4, 6, 8])"
      ]
     },
     "execution_count": 21,
     "metadata": {},
     "output_type": "execute_result"
    }
   ],
   "source": [
    "np.arange (0,10,2)"
   ]
  },
  {
   "cell_type": "code",
   "execution_count": 56,
   "id": "bd065cd0",
   "metadata": {},
   "outputs": [
    {
     "data": {
      "text/plain": [
       "array([[1., 1., 1., 0., 0., 0.],\n",
       "       [1., 1., 1., 0., 0., 0.]])"
      ]
     },
     "execution_count": 56,
     "metadata": {},
     "output_type": "execute_result"
    }
   ],
   "source": [
    "np.hstack ((z,y))"
   ]
  },
  {
   "cell_type": "markdown",
   "id": "40291d90",
   "metadata": {},
   "source": [
    "## Manipulation"
   ]
  },
  {
   "cell_type": "code",
   "execution_count": 27,
   "id": "f8b050c0",
   "metadata": {},
   "outputs": [],
   "source": [
    "E = np.zeros ((3,2))\n",
    "F = np.ones ((3,2))"
   ]
  },
  {
   "cell_type": "code",
   "execution_count": 31,
   "id": "62082c22",
   "metadata": {},
   "outputs": [
    {
     "data": {
      "text/plain": [
       "array([[0., 0., 1., 1.],\n",
       "       [0., 0., 1., 1.],\n",
       "       [0., 0., 1., 1.]])"
      ]
     },
     "execution_count": 31,
     "metadata": {},
     "output_type": "execute_result"
    }
   ],
   "source": [
    "G = np.hstack ((E,F)) # coller les deux tableau de facon horizontale\n",
    "G"
   ]
  },
  {
   "cell_type": "code",
   "execution_count": 32,
   "id": "11e66ff3",
   "metadata": {},
   "outputs": [
    {
     "data": {
      "text/plain": [
       "array([[0., 0.],\n",
       "       [0., 0.],\n",
       "       [0., 0.],\n",
       "       [1., 1.],\n",
       "       [1., 1.],\n",
       "       [1., 1.]])"
      ]
     },
     "execution_count": 32,
     "metadata": {},
     "output_type": "execute_result"
    }
   ],
   "source": [
    "H = np.vstack ((E,F)) #coller les deux tableau de facon verticale\n",
    "H"
   ]
  },
  {
   "cell_type": "code",
   "execution_count": 34,
   "id": "ce8d2abf",
   "metadata": {},
   "outputs": [
    {
     "data": {
      "text/plain": [
       "array([[0., 0., 1., 1.],\n",
       "       [0., 0., 1., 1.],\n",
       "       [0., 0., 1., 1.]])"
      ]
     },
     "execution_count": 34,
     "metadata": {},
     "output_type": "execute_result"
    }
   ],
   "source": [
    "np.concatenate ((E,F), axis = 1)#coller les deux tableau de facon horizontale\n"
   ]
  },
  {
   "cell_type": "code",
   "execution_count": 37,
   "id": "2832dbe5",
   "metadata": {},
   "outputs": [
    {
     "data": {
      "text/plain": [
       "array([[0., 0.],\n",
       "       [0., 0.],\n",
       "       [0., 0.],\n",
       "       [1., 1.],\n",
       "       [1., 1.],\n",
       "       [1., 1.]])"
      ]
     },
     "execution_count": 37,
     "metadata": {},
     "output_type": "execute_result"
    }
   ],
   "source": [
    "np.concatenate ((E,F), axis = 0)#coller les deux tableau de facon verticale\n"
   ]
  },
  {
   "cell_type": "code",
   "execution_count": 39,
   "id": "5cd8de50",
   "metadata": {},
   "outputs": [
    {
     "data": {
      "text/plain": [
       "array([[0., 0., 0., 0.],\n",
       "       [0., 0., 1., 1.],\n",
       "       [1., 1., 1., 1.]])"
      ]
     },
     "execution_count": 39,
     "metadata": {},
     "output_type": "execute_result"
    }
   ],
   "source": [
    "H = H.reshape ((3,4))\n",
    "H"
   ]
  },
  {
   "cell_type": "code",
   "execution_count": 42,
   "id": "1d1c843e",
   "metadata": {},
   "outputs": [
    {
     "data": {
      "text/plain": [
       "(3, 1)"
      ]
     },
     "execution_count": 42,
     "metadata": {},
     "output_type": "execute_result"
    }
   ],
   "source": [
    "I = np.array ([1,2,3])\n",
    "I = I.reshape ((I.shape[0],1))\n",
    "I.shape "
   ]
  },
  {
   "cell_type": "code",
   "execution_count": 48,
   "id": "fdda498b",
   "metadata": {},
   "outputs": [
    {
     "data": {
      "text/plain": [
       "(3,)"
      ]
     },
     "execution_count": 48,
     "metadata": {},
     "output_type": "execute_result"
    }
   ],
   "source": [
    "I = I.squeeze ()\n",
    "I.shape"
   ]
  },
  {
   "cell_type": "code",
   "execution_count": 51,
   "id": "d8dca07f",
   "metadata": {},
   "outputs": [
    {
     "data": {
      "text/plain": [
       "(12,)"
      ]
     },
     "execution_count": 51,
     "metadata": {},
     "output_type": "execute_result"
    }
   ],
   "source": [
    "H.ravel ().shape"
   ]
  },
  {
   "cell_type": "code",
   "execution_count": 3,
   "id": "722a758f",
   "metadata": {},
   "outputs": [
    {
     "data": {
      "text/plain": [
       "array([[0., 0., 0., 0., 0., 0., 0., 0., 0., 0., 1.],\n",
       "       [0., 0., 0., 0., 0., 0., 0., 0., 0., 0., 1.],\n",
       "       [0., 0., 0., 0., 0., 0., 0., 0., 0., 0., 1.],\n",
       "       [0., 0., 0., 0., 0., 0., 0., 0., 0., 0., 1.],\n",
       "       [0., 0., 0., 0., 0., 0., 0., 0., 0., 0., 1.],\n",
       "       [0., 0., 0., 0., 0., 0., 0., 0., 0., 0., 1.],\n",
       "       [0., 0., 0., 0., 0., 0., 0., 0., 0., 0., 1.],\n",
       "       [0., 0., 0., 0., 0., 0., 0., 0., 0., 0., 1.],\n",
       "       [0., 0., 0., 0., 0., 0., 0., 0., 0., 0., 1.],\n",
       "       [0., 0., 0., 0., 0., 0., 0., 0., 0., 0., 1.]])"
      ]
     },
     "execution_count": 3,
     "metadata": {},
     "output_type": "execute_result"
    }
   ],
   "source": [
    "def initialisation (m,n):\n",
    "    Array1 = np.zeros ((m,n))\n",
    "    Array2 = np.ones ((m,1))\n",
    "    Array1.reshape ((m*n,1))\n",
    "    Array3 = np.concatenate ((Array1,Array2),axis = 1);\n",
    "    return Array3.reshape ((m,(n+1)))\n",
    "\n",
    "initialisation (10,10)"
   ]
  },
  {
   "cell_type": "code",
   "execution_count": 21,
   "id": "1321c403",
   "metadata": {},
   "outputs": [
    {
     "data": {
      "text/plain": [
       "array([[-0.91634866, -0.0374988 ,  1.        ],\n",
       "       [ 0.45610517,  0.1923219 ,  1.        ],\n",
       "       [-0.36197356,  1.45690561,  1.        ],\n",
       "       [ 1.92779989, -0.72307028,  1.        ]])"
      ]
     },
     "execution_count": 21,
     "metadata": {},
     "output_type": "execute_result"
    }
   ],
   "source": [
    "def initi (m,n):\n",
    "    X = np.random.randn (m,n)\n",
    "    X = np.concatenate ((X,np.ones(( X.shape [0],1))), axis = 1)\n",
    "    return X\n",
    "\n",
    "initi (4,2)"
   ]
  }
 ],
 "metadata": {
  "celltoolbar": "Format de la Cellule Texte Brut",
  "kernelspec": {
   "display_name": "Python 3",
   "language": "python",
   "name": "python3"
  },
  "language_info": {
   "codemirror_mode": {
    "name": "ipython",
    "version": 3
   },
   "file_extension": ".py",
   "mimetype": "text/x-python",
   "name": "python",
   "nbconvert_exporter": "python",
   "pygments_lexer": "ipython3",
   "version": "3.8.10"
  }
 },
 "nbformat": 4,
 "nbformat_minor": 5
}
