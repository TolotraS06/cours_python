{
 "cells": [
  {
   "cell_type": "code",
   "execution_count": 81,
   "id": "33da8e93",
   "metadata": {},
   "outputs": [],
   "source": [
    "import numpy as np"
   ]
  },
  {
   "cell_type": "code",
   "execution_count": 54,
   "id": "ce8ab11b",
   "metadata": {},
   "outputs": [
    {
     "data": {
      "text/plain": [
       "array([[5, 0, 3, 3, 7],\n",
       "       [9, 3, 5, 2, 4],\n",
       "       [7, 6, 8, 8, 1],\n",
       "       [6, 7, 7, 8, 1],\n",
       "       [5, 9, 8, 9, 4]])"
      ]
     },
     "execution_count": 54,
     "metadata": {},
     "output_type": "execute_result"
    }
   ],
   "source": [
    "np.random.seed (0)\n",
    "A = np.random.randint (0,10,[5,5])\n",
    "A"
   ]
  },
  {
   "cell_type": "code",
   "execution_count": 12,
   "id": "601a5bb2",
   "metadata": {},
   "outputs": [
    {
     "data": {
      "text/plain": [
       "27"
      ]
     },
     "execution_count": 12,
     "metadata": {},
     "output_type": "execute_result"
    }
   ],
   "source": [
    "A.sum ()"
   ]
  },
  {
   "cell_type": "code",
   "execution_count": 17,
   "id": "420c090a",
   "metadata": {},
   "outputs": [
    {
     "data": {
      "text/plain": [
       "array([ 8, 19])"
      ]
     },
     "execution_count": 17,
     "metadata": {},
     "output_type": "execute_result"
    }
   ],
   "source": [
    "A.sum (axis = 1)"
   ]
  },
  {
   "cell_type": "code",
   "execution_count": 19,
   "id": "623088f3",
   "metadata": {},
   "outputs": [
    {
     "data": {
      "text/plain": [
       "array([ 5,  5,  8, 11, 18, 27])"
      ]
     },
     "execution_count": 19,
     "metadata": {},
     "output_type": "execute_result"
    }
   ],
   "source": [
    "A.cumsum ()"
   ]
  },
  {
   "cell_type": "code",
   "execution_count": 25,
   "id": "bf51fd32",
   "metadata": {},
   "outputs": [
    {
     "data": {
      "text/plain": [
       "array([3, 0, 3])"
      ]
     },
     "execution_count": 25,
     "metadata": {},
     "output_type": "execute_result"
    }
   ],
   "source": [
    "A.min (axis = 0)"
   ]
  },
  {
   "cell_type": "code",
   "execution_count": 26,
   "id": "500c8d8f",
   "metadata": {},
   "outputs": [
    {
     "data": {
      "text/plain": [
       "array([1, 0, 0])"
      ]
     },
     "execution_count": 26,
     "metadata": {},
     "output_type": "execute_result"
    }
   ],
   "source": [
    "A.argmin (axis = 0)"
   ]
  },
  {
   "cell_type": "code",
   "execution_count": 34,
   "id": "39cccaa7",
   "metadata": {},
   "outputs": [
    {
     "data": {
      "text/plain": [
       "array([[1, 2, 0],\n",
       "       [0, 1, 2]])"
      ]
     },
     "execution_count": 34,
     "metadata": {},
     "output_type": "execute_result"
    }
   ],
   "source": [
    "A.argsort ()"
   ]
  },
  {
   "cell_type": "code",
   "execution_count": 36,
   "id": "ccab58c0",
   "metadata": {},
   "outputs": [
    {
     "data": {
      "text/plain": [
       "array([[1.48413159e+02, 1.00000000e+00, 2.00855369e+01],\n",
       "       [2.00855369e+01, 1.09663316e+03, 8.10308393e+03]])"
      ]
     },
     "execution_count": 36,
     "metadata": {},
     "output_type": "execute_result"
    }
   ],
   "source": [
    "np.exp (A)"
   ]
  },
  {
   "cell_type": "markdown",
   "id": "bc85fffd",
   "metadata": {},
   "source": [
    "## Stat\n"
   ]
  },
  {
   "cell_type": "code",
   "execution_count": 38,
   "id": "f1cdcd0a",
   "metadata": {},
   "outputs": [
    {
     "data": {
      "text/plain": [
       "4.5"
      ]
     },
     "execution_count": 38,
     "metadata": {},
     "output_type": "execute_result"
    }
   ],
   "source": [
    "A.mean ()"
   ]
  },
  {
   "cell_type": "code",
   "execution_count": 40,
   "id": "83bf90e4",
   "metadata": {},
   "outputs": [
    {
     "data": {
      "text/plain": [
       "2.9297326385411577"
      ]
     },
     "execution_count": 40,
     "metadata": {},
     "output_type": "execute_result"
    }
   ],
   "source": [
    "A.std () #ecart -type"
   ]
  },
  {
   "cell_type": "code",
   "execution_count": 42,
   "id": "6dd260b2",
   "metadata": {},
   "outputs": [
    {
     "data": {
      "text/plain": [
       "8.583333333333334"
      ]
     },
     "execution_count": 42,
     "metadata": {},
     "output_type": "execute_result"
    }
   ],
   "source": [
    "A.var () #variance"
   ]
  },
  {
   "cell_type": "code",
   "execution_count": 50,
   "id": "223cc1a9",
   "metadata": {},
   "outputs": [
    {
     "data": {
      "text/plain": [
       "array([[ 1.        , -0.56362148],\n",
       "       [-0.56362148,  1.        ]])"
      ]
     },
     "execution_count": 50,
     "metadata": {},
     "output_type": "execute_result"
    }
   ],
   "source": [
    "#coefficient de correlation\n",
    "np.corrcoef (A)"
   ]
  },
  {
   "cell_type": "code",
   "execution_count": 51,
   "id": "6dfcc603",
   "metadata": {},
   "outputs": [
    {
     "data": {
      "text/plain": [
       "-0.563621480190678"
      ]
     },
     "execution_count": 51,
     "metadata": {},
     "output_type": "execute_result"
    }
   ],
   "source": [
    "np.corrcoef (A)[0,1]"
   ]
  },
  {
   "cell_type": "code",
   "execution_count": 60,
   "id": "8bd27ed6",
   "metadata": {},
   "outputs": [
    {
     "name": "stdout",
     "output_type": "stream",
     "text": [
      "[0 1 2 3 4 5 6 7 8 9] [1 2 1 3 2 3 2 4 4 3]\n"
     ]
    }
   ],
   "source": [
    "value,counts = np.unique (A,return_counts= True)\n",
    "print (value,counts)"
   ]
  },
  {
   "cell_type": "code",
   "execution_count": 62,
   "id": "30f7854b",
   "metadata": {},
   "outputs": [
    {
     "data": {
      "text/plain": [
       "array([0, 2, 1, 4, 6, 3, 5, 9, 7, 8])"
      ]
     },
     "execution_count": 62,
     "metadata": {},
     "output_type": "execute_result"
    }
   ],
   "source": [
    "value [counts.argsort()]"
   ]
  },
  {
   "cell_type": "markdown",
   "id": "ad01cd2f",
   "metadata": {},
   "source": [
    "## Algebre lineare\n"
   ]
  },
  {
   "cell_type": "code",
   "execution_count": 68,
   "id": "4f536b2d",
   "metadata": {},
   "outputs": [
    {
     "name": "stdout",
     "output_type": "stream",
     "text": [
      "[[1. 1. 1.]\n",
      " [1. 1. 1.]]\n",
      "\n",
      "[[1. 1.]\n",
      " [1. 1.]\n",
      " [1. 1.]]\n"
     ]
    }
   ],
   "source": [
    "A = np.ones ((2,3))\n",
    "B = np.ones ((3,2))\n",
    "print (A)\n",
    "print()\n",
    "print (B)"
   ]
  },
  {
   "cell_type": "code",
   "execution_count": 70,
   "id": "70f8c307",
   "metadata": {},
   "outputs": [
    {
     "data": {
      "text/plain": [
       "array([[1., 1.],\n",
       "       [1., 1.],\n",
       "       [1., 1.]])"
      ]
     },
     "execution_count": 70,
     "metadata": {},
     "output_type": "execute_result"
    }
   ],
   "source": [
    "A.T #transposee d'une matrice"
   ]
  },
  {
   "cell_type": "code",
   "execution_count": 72,
   "id": "4ff7145e",
   "metadata": {},
   "outputs": [
    {
     "data": {
      "text/plain": [
       "array([[3., 3.],\n",
       "       [3., 3.]])"
      ]
     },
     "execution_count": 72,
     "metadata": {},
     "output_type": "execute_result"
    }
   ],
   "source": [
    "A.dot (B) #produit matricielle"
   ]
  },
  {
   "cell_type": "code",
   "execution_count": 74,
   "id": "43e78a54",
   "metadata": {},
   "outputs": [
    {
     "data": {
      "text/plain": [
       "array([[2., 2., 2.],\n",
       "       [2., 2., 2.],\n",
       "       [2., 2., 2.]])"
      ]
     },
     "execution_count": 74,
     "metadata": {},
     "output_type": "execute_result"
    }
   ],
   "source": [
    "B.dot (A)"
   ]
  },
  {
   "cell_type": "markdown",
   "id": "4b061f85",
   "metadata": {},
   "source": [
    "## exercice"
   ]
  },
  {
   "cell_type": "code",
   "execution_count": 77,
   "id": "9a545d78",
   "metadata": {},
   "outputs": [
    {
     "data": {
      "text/plain": [
       "array([[44, 47, 64, 67, 67],\n",
       "       [ 9, 83, 21, 36, 87],\n",
       "       [70, 88, 88, 12, 58],\n",
       "       [65, 39, 87, 46, 88],\n",
       "       [81, 37, 25, 77, 72],\n",
       "       [ 9, 20, 80, 69, 79],\n",
       "       [47, 64, 82, 99, 88],\n",
       "       [49, 29, 19, 19, 14],\n",
       "       [39, 32, 65,  9, 57],\n",
       "       [32, 31, 74, 23, 35]])"
      ]
     },
     "execution_count": 77,
     "metadata": {},
     "output_type": "execute_result"
    }
   ],
   "source": [
    "#normalisation des donnee\n",
    "np.random.seed (0)\n",
    "Data = np.random.randint (0,100,[10,5])\n",
    "Data"
   ]
  },
  {
   "cell_type": "code",
   "execution_count": 96,
   "id": "faf00073",
   "metadata": {},
   "outputs": [
    {
     "data": {
      "text/plain": [
       "array([[-0.02206157,  0.        ,  0.13173823,  0.72539252,  0.10755798],\n",
       "       [-1.56637126,  1.61579632, -1.48676006, -0.33034307,  0.96802178],\n",
       "       [ 1.12513992,  1.84021247,  1.03508612, -1.14768676, -0.27965074],\n",
       "       [ 0.90452425, -0.35906585,  0.99744662,  0.0102168 ,  1.01104497],\n",
       "       [ 1.6104944 , -0.44883231, -1.33620208,  1.0659524 ,  0.32267393],\n",
       "       [-1.56637126, -1.21184724,  0.73397016,  0.7935045 ,  0.62383626],\n",
       "       [ 0.11030784,  0.76301493,  0.80924915,  1.81518411,  1.01104497],\n",
       "       [ 0.1985541 , -0.80789816, -1.56203905, -0.90929485, -2.17267111],\n",
       "       [-0.24267724, -0.67324847,  0.16937773, -1.24985473, -0.32267393],\n",
       "       [-0.55153918, -0.7181317 ,  0.50813319, -0.77307091, -1.26918412]])"
      ]
     },
     "execution_count": 96,
     "metadata": {},
     "output_type": "execute_result"
    }
   ],
   "source": [
    "# data - mean (data)/ecartype (Data)\n",
    "norm = (Data - Data.mean (axis=0)) / Data.std (axis = 0)\n",
    "norm "
   ]
  },
  {
   "cell_type": "code",
   "execution_count": 93,
   "id": "64d70cb1",
   "metadata": {},
   "outputs": [
    {
     "name": "stdout",
     "output_type": "stream",
     "text": [
      "(10, 5)\n"
     ]
    },
    {
     "data": {
      "text/plain": [
       "(10, 5)"
      ]
     },
     "execution_count": 93,
     "metadata": {},
     "output_type": "execute_result"
    }
   ],
   "source": [
    "print (Data.shape)\n",
    "norm.shape"
   ]
  }
 ],
 "metadata": {
  "kernelspec": {
   "display_name": "Python 3",
   "language": "python",
   "name": "python3"
  },
  "language_info": {
   "codemirror_mode": {
    "name": "ipython",
    "version": 3
   },
   "file_extension": ".py",
   "mimetype": "text/x-python",
   "name": "python",
   "nbconvert_exporter": "python",
   "pygments_lexer": "ipython3",
   "version": "3.8.10"
  }
 },
 "nbformat": 4,
 "nbformat_minor": 5
}
