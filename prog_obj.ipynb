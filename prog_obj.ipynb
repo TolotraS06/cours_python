{
 "cells": [
  {
   "cell_type": "markdown",
   "metadata": {},
   "source": [
    "        Programmation oriente objet avance"
   ]
  },
  {
   "cell_type": "markdown",
   "metadata": {},
   "source": [
    "    Encapsulation"
   ]
  },
  {
   "cell_type": "code",
   "execution_count": 2,
   "metadata": {},
   "outputs": [
    {
     "name": "stdout",
     "output_type": "stream",
     "text": [
      "lion\n",
      "lion de la savane\n"
     ]
    }
   ],
   "source": [
    "#definir un attribut prive : __ATTRIBUT\n",
    "class Animal:\n",
    "     \n",
    "    def __init__(self,race):\n",
    "        self.__race = race\n",
    "        \n",
    "#getteurs        \n",
    "    def get_race (self):\n",
    "        return self.__race\n",
    "\n",
    "#setteurs\n",
    "    def set_race (self,new_race):\n",
    "        self.__race = new_race\n",
    "        \n",
    "toto_le_lion = Animal ('lion');\n",
    "print (toto_le_lion.get_race ()) \n",
    "toto_le_lion.set_race (\"lion de la savane\")\n",
    "print (toto_le_lion.get_race ())         \n"
   ]
  },
  {
   "cell_type": "markdown",
   "metadata": {},
   "source": [
    "    Heritage et methode de classe et methode static\n",
    "    "
   ]
  },
  {
   "cell_type": "code",
   "execution_count": 3,
   "metadata": {},
   "outputs": [
    {
     "name": "stdout",
     "output_type": "stream",
     "text": [
      "je viens de manger de la viande\n",
      "4 4\n",
      "3 3\n",
      "100 100\n",
      "90 90\n",
      "5\n",
      "je suis un felin\n"
     ]
    }
   ],
   "source": [
    "# cls = classe (attribut de classe) \n",
    "# self (attribut d'instance) \n",
    "#CLASSE MERE\n",
    "class Felin:\n",
    "    nombre_de_patte = 4 #attribut de classe\n",
    "    carnivore = True     \n",
    "    energie = 100\n",
    "    \n",
    "    def __init__(self,color):\n",
    "        self.__color = color  #attribut d'instance\n",
    "    \n",
    "#getteurs        \n",
    "    def get_color (self):\n",
    "        return self.__color\n",
    "\n",
    "#setteurs\n",
    "    def set_color (self,new_color):\n",
    "        self.__color = new_color  \n",
    "    \n",
    "    def mange_viande (self):\n",
    "        return \"je viens de manger de la viande\"\n",
    "   \n",
    "    #2eme methode pour definir une methode de \n",
    "    # classe : @classmethod\n",
    "    @classmethod             \n",
    "    def tout_les_felin_courent (cls):\n",
    "        cls.energie = cls.energie - 10 \n",
    "\n",
    "#1er methode pour definir une methode de classe\n",
    "#    tout_les_felin_courent = classmethod (tout_les_felin_courent)\n",
    "    \n",
    "    #2eme methode pour definir une methode \n",
    "    # static : @staticmethod\n",
    "    @staticmethod\n",
    "    def nombre_de_felin (nbr_lion,nbr_tigre):\n",
    "        return nbr_lion+nbr_tigre\n",
    "    \n",
    "#1er methode pour definir une methode static\n",
    "#    nombre_de_felin = staticmethod (nombre_de_felin)\n",
    "\n",
    "#def  __str__  permet de definir ce qui sort en console \n",
    "# lorqu'on fait print (instance_de_felin)\n",
    "    def __str__ (self):\n",
    "        return \"je suis un felin\"\n",
    "     \n",
    "    \n",
    "#CLASSE FILS             \n",
    "class Lion (Felin) : #la classe lion devient une classe fils de felin \n",
    "    def __init__(self,race,name,color):\n",
    "        super().__init__(color);\n",
    "        self.__race = race\n",
    "        self.name = name\n",
    "        \n",
    "#getteurs        \n",
    "    def get_race (self):\n",
    "        return self.__race\n",
    "\n",
    "#setteurs\n",
    "    def set_race (self,new_race):\n",
    "        self.__race = new_race\n",
    "            \n",
    "\n",
    "gerard_le_lion = Lion (race = \"lion\",name= 'gerard',color = 'noire')            \n",
    "gerard1_le_lion = Lion (race = \"lion de la montagne\",name= 'gerard1',color = 'blanc')            \n",
    "\n",
    "print (gerard_le_lion.mange_viande ())\n",
    "\n",
    "print (gerard_le_lion.nombre_de_patte,gerard1_le_lion.nombre_de_patte)    \n",
    "Felin.nombre_de_patte = 3\n",
    "print (gerard_le_lion.nombre_de_patte,gerard1_le_lion.nombre_de_patte)    \n",
    "\n",
    "print (gerard_le_lion.energie,gerard1_le_lion.energie)\n",
    "Felin.tout_les_felin_courent ()\n",
    "print (gerard_le_lion.energie,gerard1_le_lion.energie)   \n",
    "\n",
    "print (Felin.nombre_de_felin(3,2))\n",
    "print (gerard1_le_lion)              \n",
    "            "
   ]
  },
  {
   "cell_type": "markdown",
   "metadata": {},
   "source": [
    "    Fonction dir, attribut__dict__"
   ]
  },
  {
   "cell_type": "code",
   "execution_count": 4,
   "metadata": {},
   "outputs": [
    {
     "data": {
      "text/plain": [
       "['__class__',\n",
       " '__delattr__',\n",
       " '__dict__',\n",
       " '__dir__',\n",
       " '__doc__',\n",
       " '__eq__',\n",
       " '__format__',\n",
       " '__ge__',\n",
       " '__getattribute__',\n",
       " '__gt__',\n",
       " '__hash__',\n",
       " '__init__',\n",
       " '__init_subclass__',\n",
       " '__le__',\n",
       " '__lt__',\n",
       " '__module__',\n",
       " '__ne__',\n",
       " '__new__',\n",
       " '__reduce__',\n",
       " '__reduce_ex__',\n",
       " '__repr__',\n",
       " '__setattr__',\n",
       " '__sizeof__',\n",
       " '__str__',\n",
       " '__subclasshook__',\n",
       " '__weakref__',\n",
       " 'carnivore',\n",
       " 'energie',\n",
       " 'get_color',\n",
       " 'mange_viande',\n",
       " 'nombre_de_felin',\n",
       " 'nombre_de_patte',\n",
       " 'set_color',\n",
       " 'tout_les_felin_courent']"
      ]
     },
     "execution_count": 4,
     "metadata": {},
     "output_type": "execute_result"
    }
   ],
   "source": [
    "# dir :fonction qui renvoi une liste contenant \n",
    "# les attributs et methodes\n",
    "dir (Felin)\n"
   ]
  },
  {
   "cell_type": "code",
   "execution_count": 5,
   "metadata": {},
   "outputs": [
    {
     "data": {
      "text/plain": [
       "{'_Felin__color': 'blanc',\n",
       " '_Lion__race': 'lion de la montagne',\n",
       " 'name': 'gerard1'}"
      ]
     },
     "execution_count": 5,
     "metadata": {},
     "output_type": "execute_result"
    }
   ],
   "source": [
    "gerard1_le_lion.__dict__"
   ]
  },
  {
   "cell_type": "code",
   "execution_count": 6,
   "metadata": {},
   "outputs": [
    {
     "data": {
      "text/plain": [
       "True"
      ]
     },
     "execution_count": 6,
     "metadata": {},
     "output_type": "execute_result"
    }
   ],
   "source": [
    "\n",
    "isinstance (gerard1_le_lion,Lion)"
   ]
  },
  {
   "cell_type": "code",
   "execution_count": 7,
   "metadata": {},
   "outputs": [
    {
     "data": {
      "text/plain": [
       "True"
      ]
     },
     "execution_count": 7,
     "metadata": {},
     "output_type": "execute_result"
    }
   ],
   "source": [
    "issubclass (Lion,Felin)"
   ]
  }
 ],
 "metadata": {
  "kernelspec": {
   "display_name": "Python 3.8.10 64-bit",
   "language": "python",
   "name": "python3"
  },
  "language_info": {
   "codemirror_mode": {
    "name": "ipython",
    "version": 3
   },
   "file_extension": ".py",
   "mimetype": "text/x-python",
   "name": "python",
   "nbconvert_exporter": "python",
   "pygments_lexer": "ipython3",
   "version": "3.8.10"
  },
  "orig_nbformat": 4,
  "vscode": {
   "interpreter": {
    "hash": "916dbcbb3f70747c44a77c7bcd40155683ae19c65e1c03b4aa3499c5328201f1"
   }
  }
 },
 "nbformat": 4,
 "nbformat_minor": 2
}
